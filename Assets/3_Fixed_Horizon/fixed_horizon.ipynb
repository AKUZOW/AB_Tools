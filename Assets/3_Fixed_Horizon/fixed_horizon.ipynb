{
 "cells": [
  {
   "cell_type": "markdown",
   "metadata": {},
   "source": [
    "## Анализ необходимого количества наблюдений, размера эффекта и мощности критериев с помощью *statsmodels.stats.power* (согласно подходу Fixed Horizon)"
   ]
  },
  {
   "cell_type": "code",
   "execution_count": 4,
   "metadata": {},
   "outputs": [],
   "source": [
    "import math\n",
    "import numpy as np\n",
    "import statsmodels.stats.power as smp\n",
    "from tqdm.auto import tqdm\n",
    "import matplotlib.pyplot as plt\n",
    "import seaborn as sns\n",
    "\n",
    "plt.style.use('ggplot')"
   ]
  },
  {
   "cell_type": "code",
   "execution_count": 2,
   "metadata": {},
   "outputs": [],
   "source": [
    "# Критерий пропорций (нужен для кликов, конверсий). Ниже посчитаем прогноз, в котором мы хотели бы увидеть разницу p_x и p_y.\n",
    "# Когда подойдет время сравнения экспериментального эффекта с прогнозом, нам таким же образом нужно взять все экспериментальные\n",
    "# параметры и сравнить их. Например, прогнозный h с фактическим (экспериментальным) h\n",
    "alpha = 0.05\n",
    "power = 0.5\n",
    "n = 450\n",
    "p_x = 0.25\n",
    "p_y = 0.2875\n",
    "\n",
    "h = 2*math.asin(np.sqrt(p_x)) - 2*math.asin(np.sqrt(p_y))"
   ]
  },
  {
   "cell_type": "code",
   "execution_count": 84,
   "metadata": {},
   "outputs": [
    {
     "data": {
      "text/plain": [
       "-0.08463688998853836"
      ]
     },
     "execution_count": 84,
     "metadata": {},
     "output_type": "execute_result"
    }
   ],
   "source": [
    "h"
   ]
  },
  {
   "cell_type": "code",
   "execution_count": 85,
   "metadata": {},
   "outputs": [
    {
     "data": {
      "text/plain": [
       "1072.4018713796613"
      ]
     },
     "execution_count": 85,
     "metadata": {},
     "output_type": "execute_result"
    }
   ],
   "source": [
    "# Сколько наблюдений необходимо для заданного эффекта, чтобы\n",
    "# результаты двухвыборочного теста пропорций были с заданным уровнем значимости \n",
    "# и заданной мощностью критерий (1 - вероятность ошибки II-го рода)\n",
    "\n",
    "smp.zt_ind_solve_power(effect_size = h, alpha = alpha, power = power, alternative='two-sided')"
   ]
  },
  {
   "cell_type": "code",
   "execution_count": 86,
   "metadata": {},
   "outputs": [
    {
     "data": {
      "text/plain": [
       "0.2455879922354528"
      ]
     },
     "execution_count": 86,
     "metadata": {},
     "output_type": "execute_result"
    }
   ],
   "source": [
    "# Какая мощность критерия будет в выборке из n наблюдений, \n",
    "# при условии, что величина эффекта = h c уровнем значимости alpha\n",
    "\n",
    "power = smp.zt_ind_solve_power(effect_size=h, nobs1=n, alpha=alpha, alternative='two-sided')\n",
    "power"
   ]
  },
  {
   "cell_type": "code",
   "execution_count": 87,
   "metadata": {},
   "outputs": [
    {
     "data": {
      "text/plain": [
       "0.0846366124937545"
      ]
     },
     "execution_count": 87,
     "metadata": {},
     "output_type": "execute_result"
    }
   ],
   "source": [
    "# Какова величина эффекта будет при рассчете теста, при заранее заданных\n",
    "# величинах альфа и величины мощности \n",
    "smp.zt_ind_solve_power(nobs1 = n, alpha = alpha, power = power)"
   ]
  },
  {
   "cell_type": "markdown",
   "metadata": {},
   "source": [
    "## t-Критерий Стьюдента (принцип такой же, какой и сверху)"
   ]
  },
  {
   "cell_type": "code",
   "execution_count": 17,
   "metadata": {},
   "outputs": [
    {
     "data": {
      "application/vnd.jupyter.widget-view+json": {
       "model_id": "017fb430144f47498412c6bf81e74fe5",
       "version_major": 2,
       "version_minor": 0
      },
      "text/plain": [
       "HBox(children=(FloatProgress(value=0.0, max=1950.0), HTML(value='')))"
      ]
     },
     "metadata": {},
     "output_type": "display_data"
    },
    {
     "name": "stdout",
     "output_type": "stream",
     "text": [
      "\n"
     ]
    }
   ],
   "source": [
    "effects = []\n",
    "sample_sizes = []\n",
    "\n",
    "for i in tqdm(range(50,2000)):\n",
    "    effects.append(smp.tt_ind_solve_power(nobs1 = i, alpha = alpha, power = power))\n",
    "    sample_sizes.append(i)"
   ]
  },
  {
   "cell_type": "code",
   "execution_count": 18,
   "metadata": {
    "scrolled": true
   },
   "outputs": [
    {
     "data": {
      "text/plain": [
       "[0.6100781117119797,\n",
       " 0.6039473708160531,\n",
       " 0.5979987726385927,\n",
       " 0.592217508992714,\n",
       " 0.5866052697062207,\n",
       " 0.5811494490351803,\n",
       " 0.5758429413270946,\n",
       " 0.5706790950542528,\n",
       " 0.5656516708182788,\n",
       " 0.5607548033983814]"
      ]
     },
     "execution_count": 18,
     "metadata": {},
     "output_type": "execute_result"
    }
   ],
   "source": [
    "effects[:10]"
   ]
  },
  {
   "cell_type": "code",
   "execution_count": 19,
   "metadata": {},
   "outputs": [
    {
     "data": {
      "text/plain": [
       "Text(0, 0.5, 'Effect Amount')"
      ]
     },
     "execution_count": 19,
     "metadata": {},
     "output_type": "execute_result"
    },
    {
     "data": {
      "image/png": "[encoded data removed]",
      "text/plain": [
       "<Figure size 432x288 with 1 Axes>"
      ]
     },
     "metadata": {},
     "output_type": "display_data"
    }
   ],
   "source": [
    "viz = sns.lineplot(x=sample_sizes, y=effects)\n",
    "viz.set_xlabel(\"Sample Size\")\n",
    "viz.set_ylabel(\"Effect Amount\")"
   ]
  },
  {
   "cell_type": "markdown",
   "metadata": {},
   "source": [
    "# Сколько времени ждать для достижения % изменения метрики?"
   ]
  },
  {
   "cell_type": "markdown",
   "metadata": {},
   "source": [
    "### Выберите метрику и посчитайте mean , std"
   ]
  },
  {
   "cell_type": "markdown",
   "metadata": {},
   "source": [
    "Посчитайте для этого показателя величину среднее и стандартное отклонение по выборке за достаточно длительный период ( 2-5 недель). Это будет константами, которые будут использоваться далее в расчетах необходимой выборки на эксперимент"
   ]
  },
  {
   "cell_type": "markdown",
   "metadata": {},
   "source": [
    "### Выберите lift от 0.01 до 1.00 (где 1.00 – 100% прироста у метрики). "
   ]
  },
  {
   "cell_type": "markdown",
   "metadata": {},
   "source": [
    "Стоит учитывать, что в зависимости от метрики у нас есть ограничения в наблюдениях и претендовать на маленькие эффекты не получится. Чтобы получить меньший эффект на тех же наблюдениях, необходимо повышать чувствительность метрики:"
   ]
  },
  {
   "cell_type": "markdown",
   "metadata": {},
   "source": [
    "### Рассчитайте Effect Size "
   ]
  },
  {
   "cell_type": "markdown",
   "metadata": {},
   "source": [
    "Дальше мы будем использовать `tt_solve_power` из модуля `scipy.stats`. На вход будем подавать `ES` по следующей формуле: `effect_size = mean / sd * lift`. Это приближение работает так же как формула из лекции"
   ]
  },
  {
   "cell_type": "markdown",
   "metadata": {},
   "source": [
    "### Выберите стат. параметры уровня значимости $\\alpha$ и уровня мощности $1-\\beta$"
   ]
  },
  {
   "cell_type": "markdown",
   "metadata": {},
   "source": [
    "**Рекомендации**\n",
    "- Уровень мощности не менее 80%\n",
    "- Уровень значимости не менее 95% (чем больше – тем лучше). Стоит учесть множественный поправки и  FWER (family wise error rate). Используйте поправку Бонферонни: $\\alpha\\over{m}$, где $m$ количество рассматриваемых гипотез (парных сравнений). При таком отношении фиксируется изначальный уровень $\\alpha$"
   ]
  },
  {
   "cell_type": "markdown",
   "metadata": {},
   "source": [
    "### Считаем кол-во наблюдений"
   ]
  },
  {
   "cell_type": "code",
   "execution_count": 12,
   "metadata": {},
   "outputs": [
    {
     "name": "stdout",
     "output_type": "stream",
     "text": [
      "0.08338061146939128\n"
     ]
    }
   ],
   "source": [
    "from statsmodels.stats.power import tt_ind_solve_power \n",
    "mean = 2021.989 # рассчитанное среднее за 2-5 недель\n",
    "se = 2425.011 # рассчитанное стандартное отклонение за тот же период\n",
    "power = 0.9\n",
    "alpha = 0.005\n",
    "lift = 0.1 # хотим увидеть 10% изменение в метрику\n",
    "effect_size = mean / se * lift \n",
    "print(effect_size)"
   ]
  },
  {
   "cell_type": "code",
   "execution_count": 6,
   "metadata": {},
   "outputs": [
    {
     "name": "stdout",
     "output_type": "stream",
     "text": [
      "4810.872941082196\n"
     ]
    }
   ],
   "source": [
    "# Результат – наблюдения на одну выборку (соотвественно, умножаем на 2)\n",
    "print(tt_ind_solve_power(effect_size=effect_size, alpha=alpha, power=power, nobs1=None, ratio=1))"
   ]
  },
  {
   "cell_type": "markdown",
   "metadata": {},
   "source": [
    "Результатом будет необходимое количество наблюдений на одну выборку. Т.к. расчеты предполагают соотношение 50%/50% в группах А и Б, то полученное число нужно умножить на 2. "
   ]
  },
  {
   "cell_type": "markdown",
   "metadata": {},
   "source": [
    "# На какой эффект я могу рассчитывать, если у меня ограниченное количество наблюдений?"
   ]
  },
  {
   "cell_type": "markdown",
   "metadata": {},
   "source": [
    "### Посчитайте количество доступных наблюдений"
   ]
  },
  {
   "cell_type": "markdown",
   "metadata": {},
   "source": [
    "Допустим, вы обладаете ограниченной базой пользователей на которые будет запускаться эксперимент. Это число и будет значением аргумента `nobs`"
   ]
  },
  {
   "cell_type": "code",
   "execution_count": 6,
   "metadata": {},
   "outputs": [
    {
     "name": "stdout",
     "output_type": "stream",
     "text": [
      "0.08338074468542343\n"
     ]
    }
   ],
   "source": [
    "from statsmodels.stats.power import tt_ind_solve_power \n",
    "nobs = 4810.872941082196 # возьмем то же самое число, что в прошлом примере\n",
    "power = 0.9\n",
    "alpha = 0.005\n",
    "\n",
    "# Результат – допустимый минимальный effect_size \n",
    "print(tt_ind_solve_power(alpha=alpha, power=power, nobs1=nobs, ratio=1))"
   ]
  },
  {
   "cell_type": "markdown",
   "metadata": {},
   "source": [
    "Функция `tt_ind_solve_power` возвращает значение для одного из 4 аргументов, который пропущен (None). \n",
    "\n",
    "Поэтому, при известном размере выборки, уровне значимости и мощности, мы получаем в результате `effect_size`"
   ]
  },
  {
   "cell_type": "code",
   "execution_count": 144,
   "metadata": {},
   "outputs": [],
   "source": [
    "import pandas as pd\n",
    "import numpy as np\n",
    "import scipy.stats\n",
    "import matplotlib.pyplot as plt\n",
    "import seaborn as sns\n",
    "\n",
    "\n",
    "N = 2000\n",
    "n = int(N/2)\n",
    "mu = 10 \n",
    "sigma = 2\n",
    "lift = 1.1\n",
    "pwr = 0.8 \n",
    "alpha = 0.05\n",
    "\n",
    "res = pd.DataFrame()\n",
    "\n",
    "# Объявим тестовые данные\n",
    "np.random.seed(1)\n",
    "pd_df = pd.DataFrame({\n",
    "    \"val\": np.concatenate([np.random.normal(mu, sigma, n), np.random.normal(mu*lift, sigma, n)]),\n",
    "    \"grp\": np.concatenate([np.repeat(\"c\",n),np.repeat(\"t\",n)])\n",
    "})\n",
    "pd_df = pd_df.sample(frac=1)\n",
    "\n",
    "# Кумулятивно считаем MDE в ходе эксперимента\n",
    "for i in range(10,len(pd_df)):\n",
    "    t = pd_df.iloc[:i, :]\n",
    "    df = len(t) - 2 # степени свободы\n",
    "    sd_t = np.std(t['val'][t['grp'] == 't'])\n",
    "    sd_c = np.std(t['val'][t['grp'] == 'c'])\n",
    "    n_t = len(t[t['grp'] == 't'])\n",
    "    n_c = len(t[t['grp'] == 'c'])\n",
    "    \n",
    "    y_c = np.mean(t['val'][t['grp'] == 'c'])\n",
    "    S = np.sqrt((sd_t**2 / n_t) + (sd_c**2 / n_c))\n",
    "    M = scipy.stats.t.ppf(pwr, df) - scipy.stats.t.ppf(alpha / 2, df)  # расчет квантилей t-распределения\n",
    "    \n",
    "    to_insert = {\n",
    "        \"n\": len(t.index),\n",
    "        \"mde\": M * S,\n",
    "        \"mde_perc\": M * S / y_c\n",
    "    }\n",
    "    \n",
    "    res = res.append(to_insert, ignore_index=True)"
   ]
  },
  {
   "cell_type": "code",
   "execution_count": 145,
   "metadata": {},
   "outputs": [
    {
     "data": {
      "text/html": [
       "<div>\n",
       "<style scoped>\n",
       "    .dataframe tbody tr th:only-of-type {\n",
       "        vertical-align: middle;\n",
       "    }\n",
       "\n",
       "    .dataframe tbody tr th {\n",
       "        vertical-align: top;\n",
       "    }\n",
       "\n",
       "    .dataframe thead th {\n",
       "        text-align: right;\n",
       "    }\n",
       "</style>\n",
       "<table border=\"1\" class=\"dataframe\">\n",
       "  <thead>\n",
       "    <tr style=\"text-align: right;\">\n",
       "      <th></th>\n",
       "      <th>mde</th>\n",
       "      <th>mde_perc</th>\n",
       "      <th>n</th>\n",
       "    </tr>\n",
       "  </thead>\n",
       "  <tbody>\n",
       "    <tr>\n",
       "      <th>0</th>\n",
       "      <td>3.238307</td>\n",
       "      <td>0.382492</td>\n",
       "      <td>10.0</td>\n",
       "    </tr>\n",
       "    <tr>\n",
       "      <th>1</th>\n",
       "      <td>2.791325</td>\n",
       "      <td>0.329697</td>\n",
       "      <td>11.0</td>\n",
       "    </tr>\n",
       "    <tr>\n",
       "      <th>2</th>\n",
       "      <td>2.451161</td>\n",
       "      <td>0.289518</td>\n",
       "      <td>12.0</td>\n",
       "    </tr>\n",
       "    <tr>\n",
       "      <th>3</th>\n",
       "      <td>2.187860</td>\n",
       "      <td>0.258419</td>\n",
       "      <td>13.0</td>\n",
       "    </tr>\n",
       "    <tr>\n",
       "      <th>4</th>\n",
       "      <td>2.013473</td>\n",
       "      <td>0.237821</td>\n",
       "      <td>14.0</td>\n",
       "    </tr>\n",
       "    <tr>\n",
       "      <th>...</th>\n",
       "      <td>...</td>\n",
       "      <td>...</td>\n",
       "      <td>...</td>\n",
       "    </tr>\n",
       "    <tr>\n",
       "      <th>1985</th>\n",
       "      <td>0.252384</td>\n",
       "      <td>0.025050</td>\n",
       "      <td>1995.0</td>\n",
       "    </tr>\n",
       "    <tr>\n",
       "      <th>1986</th>\n",
       "      <td>0.252332</td>\n",
       "      <td>0.025045</td>\n",
       "      <td>1996.0</td>\n",
       "    </tr>\n",
       "    <tr>\n",
       "      <th>1987</th>\n",
       "      <td>0.252315</td>\n",
       "      <td>0.025043</td>\n",
       "      <td>1997.0</td>\n",
       "    </tr>\n",
       "    <tr>\n",
       "      <th>1988</th>\n",
       "      <td>0.252300</td>\n",
       "      <td>0.025042</td>\n",
       "      <td>1998.0</td>\n",
       "    </tr>\n",
       "    <tr>\n",
       "      <th>1989</th>\n",
       "      <td>0.252191</td>\n",
       "      <td>0.025031</td>\n",
       "      <td>1999.0</td>\n",
       "    </tr>\n",
       "  </tbody>\n",
       "</table>\n",
       "<p>1990 rows × 3 columns</p>\n",
       "</div>"
      ],
      "text/plain": [
       "           mde  mde_perc       n\n",
       "0     3.238307  0.382492    10.0\n",
       "1     2.791325  0.329697    11.0\n",
       "2     2.451161  0.289518    12.0\n",
       "3     2.187860  0.258419    13.0\n",
       "4     2.013473  0.237821    14.0\n",
       "...        ...       ...     ...\n",
       "1985  0.252384  0.025050  1995.0\n",
       "1986  0.252332  0.025045  1996.0\n",
       "1987  0.252315  0.025043  1997.0\n",
       "1988  0.252300  0.025042  1998.0\n",
       "1989  0.252191  0.025031  1999.0\n",
       "\n",
       "[1990 rows x 3 columns]"
      ]
     },
     "execution_count": 145,
     "metadata": {},
     "output_type": "execute_result"
    }
   ],
   "source": [
    "res"
   ]
  },
  {
   "cell_type": "code",
   "execution_count": 148,
   "metadata": {},
   "outputs": [
    {
     "data": {
      "image/png": "[encoded data removed]",
      "text/plain": [
       "<Figure size 432x288 with 1 Axes>"
      ]
     },
     "metadata": {
      "needs_background": "light"
     },
     "output_type": "display_data"
    }
   ],
   "source": [
    "plt.plot(res['mde'])\n",
    "plt.ylabel('mde')\n",
    "plt.show()"
   ]
  },
  {
   "cell_type": "code",
   "execution_count": 150,
   "metadata": {},
   "outputs": [
    {
     "data": {
      "text/html": [
       "<div>\n",
       "<style scoped>\n",
       "    .dataframe tbody tr th:only-of-type {\n",
       "        vertical-align: middle;\n",
       "    }\n",
       "\n",
       "    .dataframe tbody tr th {\n",
       "        vertical-align: top;\n",
       "    }\n",
       "\n",
       "    .dataframe thead th {\n",
       "        text-align: right;\n",
       "    }\n",
       "</style>\n",
       "<table border=\"1\" class=\"dataframe\">\n",
       "  <thead>\n",
       "    <tr style=\"text-align: right;\">\n",
       "      <th></th>\n",
       "      <th>n</th>\n",
       "      <th>lift</th>\n",
       "      <th>es</th>\n",
       "    </tr>\n",
       "  </thead>\n",
       "  <tbody>\n",
       "    <tr>\n",
       "      <th>0</th>\n",
       "      <td>480892.0</td>\n",
       "      <td>0.01</td>\n",
       "      <td>0.008338</td>\n",
       "    </tr>\n",
       "    <tr>\n",
       "      <th>1</th>\n",
       "      <td>120225.0</td>\n",
       "      <td>0.02</td>\n",
       "      <td>0.016676</td>\n",
       "    </tr>\n",
       "    <tr>\n",
       "      <th>2</th>\n",
       "      <td>53434.0</td>\n",
       "      <td>0.03</td>\n",
       "      <td>0.025014</td>\n",
       "    </tr>\n",
       "    <tr>\n",
       "      <th>3</th>\n",
       "      <td>30058.0</td>\n",
       "      <td>0.04</td>\n",
       "      <td>0.033352</td>\n",
       "    </tr>\n",
       "    <tr>\n",
       "      <th>4</th>\n",
       "      <td>19238.0</td>\n",
       "      <td>0.05</td>\n",
       "      <td>0.041690</td>\n",
       "    </tr>\n",
       "    <tr>\n",
       "      <th>5</th>\n",
       "      <td>13360.0</td>\n",
       "      <td>0.06</td>\n",
       "      <td>0.050028</td>\n",
       "    </tr>\n",
       "    <tr>\n",
       "      <th>6</th>\n",
       "      <td>9816.0</td>\n",
       "      <td>0.07</td>\n",
       "      <td>0.058366</td>\n",
       "    </tr>\n",
       "    <tr>\n",
       "      <th>7</th>\n",
       "      <td>7516.0</td>\n",
       "      <td>0.08</td>\n",
       "      <td>0.066704</td>\n",
       "    </tr>\n",
       "    <tr>\n",
       "      <th>8</th>\n",
       "      <td>5939.0</td>\n",
       "      <td>0.09</td>\n",
       "      <td>0.075043</td>\n",
       "    </tr>\n",
       "    <tr>\n",
       "      <th>9</th>\n",
       "      <td>4811.0</td>\n",
       "      <td>0.10</td>\n",
       "      <td>0.083381</td>\n",
       "    </tr>\n",
       "  </tbody>\n",
       "</table>\n",
       "</div>"
      ],
      "text/plain": [
       "          n  lift        es\n",
       "0  480892.0  0.01  0.008338\n",
       "1  120225.0  0.02  0.016676\n",
       "2   53434.0  0.03  0.025014\n",
       "3   30058.0  0.04  0.033352\n",
       "4   19238.0  0.05  0.041690\n",
       "5   13360.0  0.06  0.050028\n",
       "6    9816.0  0.07  0.058366\n",
       "7    7516.0  0.08  0.066704\n",
       "8    5939.0  0.09  0.075043\n",
       "9    4811.0  0.10  0.083381"
      ]
     },
     "execution_count": 150,
     "metadata": {},
     "output_type": "execute_result"
    }
   ],
   "source": [
    "mean = 2021.989 # рассчитанное среднее 5 недель\n",
    "se = 2425.011 # рассчитанное стандартное отклонение за тот же период\n",
    "power = 0.9\n",
    "alpha = 0.005\n",
    "es = []\n",
    "n = []\n",
    "\n",
    "lift_list = np.arange(0.01,0.11,0.01)\n",
    "for lift in lift_list:\n",
    "    effect_size = mean / se * lift\n",
    "    res = tt_ind_solve_power(effect_size=effect_size, alpha=alpha, power=power, ratio=1)\n",
    "    n.append(res)\n",
    "    es.append(effect_size)\n",
    "    \n",
    "pd_res = pd.DataFrame({\"n\": np.round(n), \"lift\": lift_list, \"es\": es})    \n",
    "pd_res"
   ]
  },
  {
   "cell_type": "markdown",
   "metadata": {},
   "source": [
    "# Проверим на живых данных"
   ]
  },
  {
   "cell_type": "code",
   "execution_count": 111,
   "metadata": {},
   "outputs": [
    {
     "data": {
      "text/html": [
       "<div>\n",
       "<style scoped>\n",
       "    .dataframe tbody tr th:only-of-type {\n",
       "        vertical-align: middle;\n",
       "    }\n",
       "\n",
       "    .dataframe tbody tr th {\n",
       "        vertical-align: top;\n",
       "    }\n",
       "\n",
       "    .dataframe thead th {\n",
       "        text-align: right;\n",
       "    }\n",
       "</style>\n",
       "<table border=\"1\" class=\"dataframe\">\n",
       "  <thead>\n",
       "    <tr style=\"text-align: right;\">\n",
       "      <th></th>\n",
       "      <th>date</th>\n",
       "      <th>driver_id</th>\n",
       "      <th>orders_count</th>\n",
       "      <th>driver_bill</th>\n",
       "      <th>fee</th>\n",
       "      <th>split</th>\n",
       "    </tr>\n",
       "  </thead>\n",
       "  <tbody>\n",
       "    <tr>\n",
       "      <th>0</th>\n",
       "      <td>2019-05-05</td>\n",
       "      <td>20143475</td>\n",
       "      <td>25</td>\n",
       "      <td>3545</td>\n",
       "      <td>1055</td>\n",
       "      <td>2</td>\n",
       "    </tr>\n",
       "    <tr>\n",
       "      <th>1</th>\n",
       "      <td>2019-05-05</td>\n",
       "      <td>31756631</td>\n",
       "      <td>40</td>\n",
       "      <td>6096</td>\n",
       "      <td>1404</td>\n",
       "      <td>1</td>\n",
       "    </tr>\n",
       "    <tr>\n",
       "      <th>2</th>\n",
       "      <td>2019-05-05</td>\n",
       "      <td>23579087</td>\n",
       "      <td>25</td>\n",
       "      <td>4179</td>\n",
       "      <td>421</td>\n",
       "      <td>2</td>\n",
       "    </tr>\n",
       "    <tr>\n",
       "      <th>3</th>\n",
       "      <td>2019-05-05</td>\n",
       "      <td>29829135</td>\n",
       "      <td>40</td>\n",
       "      <td>6293</td>\n",
       "      <td>1207</td>\n",
       "      <td>1</td>\n",
       "    </tr>\n",
       "    <tr>\n",
       "      <th>4</th>\n",
       "      <td>2019-05-05</td>\n",
       "      <td>31118111</td>\n",
       "      <td>23</td>\n",
       "      <td>4307</td>\n",
       "      <td>0</td>\n",
       "      <td>1</td>\n",
       "    </tr>\n",
       "    <tr>\n",
       "      <th>...</th>\n",
       "      <td>...</td>\n",
       "      <td>...</td>\n",
       "      <td>...</td>\n",
       "      <td>...</td>\n",
       "      <td>...</td>\n",
       "      <td>...</td>\n",
       "    </tr>\n",
       "    <tr>\n",
       "      <th>4962</th>\n",
       "      <td>2019-06-26</td>\n",
       "      <td>28387903</td>\n",
       "      <td>5</td>\n",
       "      <td>1088</td>\n",
       "      <td>0</td>\n",
       "      <td>2</td>\n",
       "    </tr>\n",
       "    <tr>\n",
       "      <th>4963</th>\n",
       "      <td>2019-06-26</td>\n",
       "      <td>14267206</td>\n",
       "      <td>7</td>\n",
       "      <td>1482</td>\n",
       "      <td>0</td>\n",
       "      <td>1</td>\n",
       "    </tr>\n",
       "    <tr>\n",
       "      <th>4964</th>\n",
       "      <td>2019-06-26</td>\n",
       "      <td>32298863</td>\n",
       "      <td>1</td>\n",
       "      <td>258</td>\n",
       "      <td>0</td>\n",
       "      <td>1</td>\n",
       "    </tr>\n",
       "    <tr>\n",
       "      <th>4965</th>\n",
       "      <td>2019-06-26</td>\n",
       "      <td>28113731</td>\n",
       "      <td>1</td>\n",
       "      <td>145</td>\n",
       "      <td>35</td>\n",
       "      <td>1</td>\n",
       "    </tr>\n",
       "    <tr>\n",
       "      <th>4966</th>\n",
       "      <td>2019-06-26</td>\n",
       "      <td>21873499</td>\n",
       "      <td>5</td>\n",
       "      <td>1153</td>\n",
       "      <td>0</td>\n",
       "      <td>2</td>\n",
       "    </tr>\n",
       "  </tbody>\n",
       "</table>\n",
       "<p>4967 rows × 6 columns</p>\n",
       "</div>"
      ],
      "text/plain": [
       "            date  driver_id  orders_count  driver_bill   fee  split\n",
       "0     2019-05-05   20143475            25         3545  1055      2\n",
       "1     2019-05-05   31756631            40         6096  1404      1\n",
       "2     2019-05-05   23579087            25         4179   421      2\n",
       "3     2019-05-05   29829135            40         6293  1207      1\n",
       "4     2019-05-05   31118111            23         4307     0      1\n",
       "...          ...        ...           ...          ...   ...    ...\n",
       "4962  2019-06-26   28387903             5         1088     0      2\n",
       "4963  2019-06-26   14267206             7         1482     0      1\n",
       "4964  2019-06-26   32298863             1          258     0      1\n",
       "4965  2019-06-26   28113731             1          145    35      1\n",
       "4966  2019-06-26   21873499             5         1153     0      2\n",
       "\n",
       "[4967 rows x 6 columns]"
      ]
     },
     "metadata": {},
     "output_type": "display_data"
    }
   ],
   "source": [
    "import pandas as pd\n",
    "import numpy as np\n",
    "from scipy.stats import ttest_ind_from_stats\n",
    "from statsmodels.stats.power import tt_ind_solve_power\n",
    "\n",
    "df = pd.read_csv(\"/Users/iskander/Documents/RProjects/dm_jira_shiny/df.csv\",sep=\";\")\n",
    "del df['Unnamed: 0']\n",
    "display(df)"
   ]
  },
  {
   "cell_type": "markdown",
   "metadata": {},
   "source": [
    "### Считаем тоталы по метриками и стандартное отклонение"
   ]
  },
  {
   "cell_type": "code",
   "execution_count": 112,
   "metadata": {
    "scrolled": true
   },
   "outputs": [],
   "source": [
    "def agg_totals(df):    \n",
    "    \"\"\"Ф-ция расчета агрегат\"\"\"\n",
    "    \n",
    "    names = {\n",
    "        \"gmv\": df['driver_bill'].sum(),\n",
    "        \"cost\": df['fee'].sum(),\n",
    "        \"orders_count\": df['orders_count'].sum(),\n",
    "        'n': df['driver_id'].nunique(),\n",
    "        \"orders_per_driver\": df['orders_count'].sum() / df['driver_id'].nunique(),\n",
    "        \"gmv_per_driver\": df['driver_bill'].sum() / df['driver_id'].nunique()\n",
    "    }\n",
    "    return pd.Series(names)\n",
    "\n",
    "def pivot_df(df, col_names=['metric_name', 'value_1', 'value_2']):\n",
    "    \"\"\"Пивот таблицы для удобной работы c расчетом fixed horizon\"\"\"\n",
    "    \n",
    "    df = pd.melt(df, id_vars=['split']) \\\n",
    "        .pivot_table(index=['variable'], columns=['split'], values='value') \\\n",
    "        .reset_index()\n",
    "    df.columns = col_names\n",
    "    return df\n",
    "\n",
    "\n",
    "# Препроцесс\n",
    "split_level_agg = pivot_df(\n",
    "    df.groupby('split').apply(agg_totals).reset_index()\n",
    ")\n",
    "\n",
    "# отдельно считаем группировку по пользователям, чтобы независимо посчитать дисперсию (т.к. в оригинале дубли)\n",
    "driver_level_agg = pivot_df(\n",
    "    df.groupby(['split','driver_id']).apply(agg_totals).reset_index(), ['metric_name', 'std_1', 'std_2']\n",
    ")\n",
    "\n",
    "exp_res = split_level_agg.merge(driver_level_agg)\n",
    "exp_res['n_1'] = int(split_level_agg['value_1'][split_level_agg.metric_name == 'n'])\n",
    "exp_res['n_2'] = int(split_level_agg['value_2'][split_level_agg.metric_name == 'n'])"
   ]
  },
  {
   "cell_type": "markdown",
   "metadata": {},
   "source": [
    "### Смотрим что получилось"
   ]
  },
  {
   "cell_type": "code",
   "execution_count": 113,
   "metadata": {
    "scrolled": true
   },
   "outputs": [
    {
     "data": {
      "text/html": [
       "<div>\n",
       "<style scoped>\n",
       "    .dataframe tbody tr th:only-of-type {\n",
       "        vertical-align: middle;\n",
       "    }\n",
       "\n",
       "    .dataframe tbody tr th {\n",
       "        vertical-align: top;\n",
       "    }\n",
       "\n",
       "    .dataframe thead th {\n",
       "        text-align: right;\n",
       "    }\n",
       "</style>\n",
       "<table border=\"1\" class=\"dataframe\">\n",
       "  <thead>\n",
       "    <tr style=\"text-align: right;\">\n",
       "      <th></th>\n",
       "      <th>metric_name</th>\n",
       "      <th>value_1</th>\n",
       "      <th>value_2</th>\n",
       "      <th>std_1</th>\n",
       "      <th>std_2</th>\n",
       "      <th>n_1</th>\n",
       "      <th>n_2</th>\n",
       "    </tr>\n",
       "  </thead>\n",
       "  <tbody>\n",
       "    <tr>\n",
       "      <th>0</th>\n",
       "      <td>cost</td>\n",
       "      <td>5.947010e+05</td>\n",
       "      <td>4.379190e+05</td>\n",
       "      <td>3716.88125</td>\n",
       "      <td>2900.125828</td>\n",
       "      <td>160</td>\n",
       "      <td>151</td>\n",
       "    </tr>\n",
       "    <tr>\n",
       "      <th>1</th>\n",
       "      <td>gmv</td>\n",
       "      <td>6.456254e+06</td>\n",
       "      <td>6.337583e+06</td>\n",
       "      <td>40351.58750</td>\n",
       "      <td>41970.748344</td>\n",
       "      <td>160</td>\n",
       "      <td>151</td>\n",
       "    </tr>\n",
       "    <tr>\n",
       "      <th>2</th>\n",
       "      <td>gmv_per_driver</td>\n",
       "      <td>4.035159e+04</td>\n",
       "      <td>4.197075e+04</td>\n",
       "      <td>40351.58750</td>\n",
       "      <td>41970.748344</td>\n",
       "      <td>160</td>\n",
       "      <td>151</td>\n",
       "    </tr>\n",
       "    <tr>\n",
       "      <th>3</th>\n",
       "      <td>n</td>\n",
       "      <td>1.600000e+02</td>\n",
       "      <td>1.510000e+02</td>\n",
       "      <td>1.00000</td>\n",
       "      <td>1.000000</td>\n",
       "      <td>160</td>\n",
       "      <td>151</td>\n",
       "    </tr>\n",
       "    <tr>\n",
       "      <th>4</th>\n",
       "      <td>orders_count</td>\n",
       "      <td>3.566900e+04</td>\n",
       "      <td>3.447000e+04</td>\n",
       "      <td>222.93125</td>\n",
       "      <td>228.278146</td>\n",
       "      <td>160</td>\n",
       "      <td>151</td>\n",
       "    </tr>\n",
       "    <tr>\n",
       "      <th>5</th>\n",
       "      <td>orders_per_driver</td>\n",
       "      <td>2.229313e+02</td>\n",
       "      <td>2.282781e+02</td>\n",
       "      <td>222.93125</td>\n",
       "      <td>228.278146</td>\n",
       "      <td>160</td>\n",
       "      <td>151</td>\n",
       "    </tr>\n",
       "  </tbody>\n",
       "</table>\n",
       "</div>"
      ],
      "text/plain": [
       "         metric_name       value_1       value_2        std_1         std_2  \\\n",
       "0               cost  5.947010e+05  4.379190e+05   3716.88125   2900.125828   \n",
       "1                gmv  6.456254e+06  6.337583e+06  40351.58750  41970.748344   \n",
       "2     gmv_per_driver  4.035159e+04  4.197075e+04  40351.58750  41970.748344   \n",
       "3                  n  1.600000e+02  1.510000e+02      1.00000      1.000000   \n",
       "4       orders_count  3.566900e+04  3.447000e+04    222.93125    228.278146   \n",
       "5  orders_per_driver  2.229313e+02  2.282781e+02    222.93125    228.278146   \n",
       "\n",
       "   n_1  n_2  \n",
       "0  160  151  \n",
       "1  160  151  \n",
       "2  160  151  \n",
       "3  160  151  \n",
       "4  160  151  \n",
       "5  160  151  "
      ]
     },
     "execution_count": 113,
     "metadata": {},
     "output_type": "execute_result"
    }
   ],
   "source": [
    "exp_res"
   ]
  },
  {
   "cell_type": "markdown",
   "metadata": {},
   "source": [
    "### Считаем pvalue, lift, mde, необходимый объем выборки"
   ]
  },
  {
   "cell_type": "code",
   "execution_count": 119,
   "metadata": {},
   "outputs": [
    {
     "name": "stderr",
     "output_type": "stream",
     "text": [
      "/Users/iskander/Documents/PyProjects/mv_variance/lib/python3.8/site-packages/statsmodels/stats/power.py:415: ConvergenceWarning: \n",
      "Failed to converge on a solution.\n",
      "\n",
      "  warnings.warn(convergence_doc, ConvergenceWarning)\n",
      "/Users/iskander/Documents/PyProjects/mv_variance/lib/python3.8/site-packages/statsmodels/stats/power.py:415: ConvergenceWarning: \n",
      "Failed to converge on a solution.\n",
      "\n",
      "  warnings.warn(convergence_doc, ConvergenceWarning)\n"
     ]
    },
    {
     "data": {
      "text/html": [
       "<div>\n",
       "<style scoped>\n",
       "    .dataframe tbody tr th:only-of-type {\n",
       "        vertical-align: middle;\n",
       "    }\n",
       "\n",
       "    .dataframe tbody tr th {\n",
       "        vertical-align: top;\n",
       "    }\n",
       "\n",
       "    .dataframe thead th {\n",
       "        text-align: right;\n",
       "    }\n",
       "</style>\n",
       "<table border=\"1\" class=\"dataframe\">\n",
       "  <thead>\n",
       "    <tr style=\"text-align: right;\">\n",
       "      <th></th>\n",
       "      <th>metric_name</th>\n",
       "      <th>value_1</th>\n",
       "      <th>value_2</th>\n",
       "      <th>std_1</th>\n",
       "      <th>std_2</th>\n",
       "      <th>n_1</th>\n",
       "      <th>n_2</th>\n",
       "      <th>pvalue</th>\n",
       "      <th>lift</th>\n",
       "      <th>effect_size</th>\n",
       "      <th>mde</th>\n",
       "      <th>n_need</th>\n",
       "    </tr>\n",
       "  </thead>\n",
       "  <tbody>\n",
       "    <tr>\n",
       "      <th>0</th>\n",
       "      <td>cost</td>\n",
       "      <td>594701.00000</td>\n",
       "      <td>437919.000000</td>\n",
       "      <td>3716.88125</td>\n",
       "      <td>2900.125828</td>\n",
       "      <td>160</td>\n",
       "      <td>151</td>\n",
       "      <td>0.000000</td>\n",
       "      <td>-0.263632</td>\n",
       "      <td>42.181062</td>\n",
       "      <td>0.314176</td>\n",
       "      <td>[10.0]</td>\n",
       "    </tr>\n",
       "    <tr>\n",
       "      <th>2</th>\n",
       "      <td>gmv_per_driver</td>\n",
       "      <td>40351.58750</td>\n",
       "      <td>41970.748344</td>\n",
       "      <td>40351.58750</td>\n",
       "      <td>41970.748344</td>\n",
       "      <td>160</td>\n",
       "      <td>151</td>\n",
       "      <td>0.729243</td>\n",
       "      <td>0.040126</td>\n",
       "      <td>0.040126</td>\n",
       "      <td>0.314176</td>\n",
       "      <td>9750.36</td>\n",
       "    </tr>\n",
       "    <tr>\n",
       "      <th>5</th>\n",
       "      <td>orders_per_driver</td>\n",
       "      <td>222.93125</td>\n",
       "      <td>228.278146</td>\n",
       "      <td>222.93125</td>\n",
       "      <td>228.278146</td>\n",
       "      <td>160</td>\n",
       "      <td>151</td>\n",
       "      <td>0.834738</td>\n",
       "      <td>0.023985</td>\n",
       "      <td>0.023985</td>\n",
       "      <td>0.314176</td>\n",
       "      <td>27289.2</td>\n",
       "    </tr>\n",
       "  </tbody>\n",
       "</table>\n",
       "</div>"
      ],
      "text/plain": [
       "         metric_name       value_1        value_2        std_1         std_2  \\\n",
       "0               cost  594701.00000  437919.000000   3716.88125   2900.125828   \n",
       "2     gmv_per_driver   40351.58750   41970.748344  40351.58750  41970.748344   \n",
       "5  orders_per_driver     222.93125     228.278146    222.93125    228.278146   \n",
       "\n",
       "   n_1  n_2    pvalue      lift  effect_size       mde   n_need  \n",
       "0  160  151  0.000000 -0.263632    42.181062  0.314176   [10.0]  \n",
       "2  160  151  0.729243  0.040126     0.040126  0.314176  9750.36  \n",
       "5  160  151  0.834738  0.023985     0.023985  0.314176  27289.2  "
      ]
     },
     "metadata": {},
     "output_type": "display_data"
    }
   ],
   "source": [
    "alpha = 0.05\n",
    "power = 0.8\n",
    "\n",
    "# расчет t-критерия из готовых статистик\n",
    "_, exp_res['pvalue'] = ttest_ind_from_stats(\n",
    "    mean1 = exp_res['value_1'], \n",
    "    std1 = exp_res['std_1'], \n",
    "    nobs1 = exp_res['n_1'], \n",
    "    mean2 = exp_res['value_2'], \n",
    "    std2 = exp_res['std_2'], \n",
    "    nobs2 = exp_res['n_2'], \n",
    "    equal_var = False)\n",
    "\n",
    "# считаем стандартизированный эффект сайз с которым потом будем сравнивать mde\n",
    "exp_res['lift'] = (exp_res['value_2'] - exp_res['value_1']) / exp_res['value_1']\n",
    "exp_res['effect_size'] = abs(exp_res['value_1'] / exp_res['std_1'] * exp_res['lift'])\n",
    "\n",
    "# Считаем мде и необходимое количество наблюдений. \n",
    "exp_res['mde'] = [tt_ind_solve_power(nobs1=row[0], alpha=alpha, power=power) for row in zip(exp_res['n_1'])]\n",
    "exp_res['n_need'] = [tt_ind_solve_power(row[0], alpha=alpha, power=power) for row in zip(exp_res['effect_size'])]\n",
    "\n",
    "# Увидим ошибки, но не обращаем внимания на них. В первом случае нереально большой эффект, а во втором дисперсия равная единице\n",
    "# также не обращаем внимание на метрики n, orders_count, gmv\n",
    "exp_res = exp_res[~exp_res.metric_name.isin(['n','orders_count','gmv'])]\n",
    "display(exp_res)"
   ]
  },
  {
   "cell_type": "code",
   "execution_count": null,
   "metadata": {},
   "outputs": [],
   "source": []
  },
  {
   "cell_type": "code",
   "execution_count": null,
   "metadata": {},
   "outputs": [],
   "source": []
  },
  {
   "cell_type": "code",
   "execution_count": null,
   "metadata": {},
   "outputs": [],
   "source": []
  },
  {
   "cell_type": "code",
   "execution_count": null,
   "metadata": {},
   "outputs": [],
   "source": []
  },
  {
   "cell_type": "code",
   "execution_count": null,
   "metadata": {},
   "outputs": [],
   "source": []
  },
  {
   "cell_type": "code",
   "execution_count": null,
   "metadata": {},
   "outputs": [],
   "source": []
  },
  {
   "cell_type": "code",
   "execution_count": null,
   "metadata": {},
   "outputs": [],
   "source": []
  }
 ],
 "metadata": {
  "kernelspec": {
   "display_name": "Python 3 (ipykernel)",
   "language": "python",
   "name": "python3"
  },
  "language_info": {
   "codemirror_mode": {
    "name": "ipython",
    "version": 3
   },
   "file_extension": ".py",
   "mimetype": "text/x-python",
   "name": "python",
   "nbconvert_exporter": "python",
   "pygments_lexer": "ipython3",
   "version": "3.8.1"
  }
 },
 "nbformat": 4,
 "nbformat_minor": 4
}
