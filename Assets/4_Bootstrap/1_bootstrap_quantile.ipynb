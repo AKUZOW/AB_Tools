{
 "cells": [
  {
   "cell_type": "code",
   "execution_count": 2,
   "metadata": {},
   "outputs": [],
   "source": [
    "import numpy as np\n",
    "import pandas as pd\n",
    "import matplotlib.pyplot as plt\n",
    "\n",
    "plt.style.use('ggplot')"
   ]
  },
  {
   "cell_type": "code",
   "execution_count": 3,
   "metadata": {},
   "outputs": [
    {
     "data": {
      "text/html": [
       "<div>\n",
       "<style scoped>\n",
       "    .dataframe tbody tr th:only-of-type {\n",
       "        vertical-align: middle;\n",
       "    }\n",
       "\n",
       "    .dataframe tbody tr th {\n",
       "        vertical-align: top;\n",
       "    }\n",
       "\n",
       "    .dataframe thead th {\n",
       "        text-align: right;\n",
       "    }\n",
       "</style>\n",
       "<table border=\"1\" class=\"dataframe\">\n",
       "  <thead>\n",
       "    <tr style=\"text-align: right;\">\n",
       "      <th></th>\n",
       "      <th>revenue</th>\n",
       "    </tr>\n",
       "  </thead>\n",
       "  <tbody>\n",
       "    <tr>\n",
       "      <th>0</th>\n",
       "      <td>1061</td>\n",
       "    </tr>\n",
       "    <tr>\n",
       "      <th>1</th>\n",
       "      <td>235</td>\n",
       "    </tr>\n",
       "    <tr>\n",
       "      <th>2</th>\n",
       "      <td>3980</td>\n",
       "    </tr>\n",
       "    <tr>\n",
       "      <th>3</th>\n",
       "      <td>1096</td>\n",
       "    </tr>\n",
       "    <tr>\n",
       "      <th>4</th>\n",
       "      <td>3839</td>\n",
       "    </tr>\n",
       "    <tr>\n",
       "      <th>...</th>\n",
       "      <td>...</td>\n",
       "    </tr>\n",
       "    <tr>\n",
       "      <th>995</th>\n",
       "      <td>3175</td>\n",
       "    </tr>\n",
       "    <tr>\n",
       "      <th>996</th>\n",
       "      <td>545</td>\n",
       "    </tr>\n",
       "    <tr>\n",
       "      <th>997</th>\n",
       "      <td>1119</td>\n",
       "    </tr>\n",
       "    <tr>\n",
       "      <th>998</th>\n",
       "      <td>1449</td>\n",
       "    </tr>\n",
       "    <tr>\n",
       "      <th>999</th>\n",
       "      <td>2247</td>\n",
       "    </tr>\n",
       "  </tbody>\n",
       "</table>\n",
       "<p>1000 rows × 1 columns</p>\n",
       "</div>"
      ],
      "text/plain": [
       "     revenue\n",
       "0       1061\n",
       "1        235\n",
       "2       3980\n",
       "3       1096\n",
       "4       3839\n",
       "..       ...\n",
       "995     3175\n",
       "996      545\n",
       "997     1119\n",
       "998     1449\n",
       "999     2247\n",
       "\n",
       "[1000 rows x 1 columns]"
      ]
     },
     "metadata": {},
     "output_type": "display_data"
    }
   ],
   "source": [
    "np.random.seed(1)\n",
    "n_row = 1000\n",
    "orders = pd.DataFrame({\"revenue\": np.random.randint(0, 4000, n_row)})\n",
    "display(orders)"
   ]
  },
  {
   "cell_type": "code",
   "execution_count": 11,
   "metadata": {},
   "outputs": [
    {
     "name": "stdout",
     "output_type": "stream",
     "text": [
      "\n",
      "      Original mean: 1994.681, Boot mean: 1994.978341\n",
      "      Original median: 1931.5, Boot median: 1947.697\n",
      "      \n"
     ]
    }
   ],
   "source": [
    "boot_it = 2000\n",
    "mean_boot_data = []\n",
    "median_boot_data = []\n",
    "boot_conf_level = 0.95\n",
    "for i in range(boot_it):\n",
    "    samples = orders['revenue'].sample(len(orders['revenue']), replace = True)\n",
    "    mean_boot_data.append(np.mean(samples))\n",
    "    median_boot_data.append(np.median(samples))\n",
    "\n",
    "print(f\"\"\"\n",
    "      Original mean: {np.mean(orders[\"revenue\"])}, Boot mean: {np.mean(mean_boot_data)}\n",
    "      Original median: {np.median(orders[\"revenue\"])}, Boot median: {np.mean(median_boot_data)}\n",
    "      \"\"\")"
   ]
  },
  {
   "cell_type": "code",
   "execution_count": 14,
   "metadata": {},
   "outputs": [
    {
     "name": "stdout",
     "output_type": "stream",
     "text": [
      "\n",
      "0.025    1806.0\n",
      "0.975    2141.0\n",
      "dtype: float64, \n",
      "0.025    1922.700400\n",
      "0.975    2065.906775\n",
      "dtype: float64\n",
      "\n"
     ]
    }
   ],
   "source": [
    "# Найдем доверительный интервал\n",
    "left_ci = (1 - boot_conf_level)/2\n",
    "right_ci = 1 - (1 - boot_conf_level) / 2\n",
    "ci_median = pd.Series(median_boot_data).quantile([left_ci, right_ci])\n",
    "ci_mean = pd.Series(mean_boot_data).quantile([left_ci, right_ci])\n",
    "\n",
    "print(f\"\"\"\n",
    "{ci_median}, \n",
    "{ci_mean}\n",
    "\"\"\")"
   ]
  },
  {
   "cell_type": "code",
   "execution_count": 16,
   "metadata": {},
   "outputs": [
    {
     "data": {
      "image/png": "[encoded data removed]",
      "text/plain": [
       "<Figure size 432x288 with 1 Axes>"
      ]
     },
     "metadata": {},
     "output_type": "display_data"
    }
   ],
   "source": [
    "plt.hist(pd.Series(median_boot_data), bins = 50)\n",
    "plt.style.use('ggplot')\n",
    "plt.vlines(ci_median,ymin=0,ymax=50,linestyle='--')\n",
    "plt.xlabel('boot_data')\n",
    "plt.ylabel('frequency')\n",
    "plt.title(\"Histogram of boot_data\")\n",
    "plt.show()"
   ]
  },
  {
   "cell_type": "code",
   "execution_count": 12,
   "metadata": {},
   "outputs": [],
   "source": []
  },
  {
   "cell_type": "code",
   "execution_count": null,
   "metadata": {},
   "outputs": [],
   "source": []
  }
 ],
 "metadata": {
  "kernelspec": {
   "display_name": "Python 3 (ipykernel)",
   "language": "python",
   "name": "python3"
  },
  "language_info": {
   "codemirror_mode": {
    "name": "ipython",
    "version": 3
   },
   "file_extension": ".py",
   "mimetype": "text/x-python",
   "name": "python",
   "nbconvert_exporter": "python",
   "pygments_lexer": "ipython3",
   "version": "3.8.1"
  }
 },
 "nbformat": 4,
 "nbformat_minor": 4
}
