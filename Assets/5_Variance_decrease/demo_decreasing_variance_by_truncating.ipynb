{
 "cells": [
  {
   "cell_type": "code",
   "execution_count": null,
   "id": "738f9b4a",
   "metadata": {},
   "outputs": [],
   "source": [
    "# Оригинальный код https://github.com/mtrencseni/playground/blob/master/Reducing%20variance.ipynb"
   ]
  },
  {
   "cell_type": "code",
   "execution_count": 1,
   "id": "0a35fdf4",
   "metadata": {},
   "outputs": [],
   "source": [
    "import scipy\n",
    "import numpy as np\n",
    "from math import sqrt\n",
    "from scipy import stats\n",
    "from numpy import cov, linspace\n",
    "from statistics import mean\n",
    "from numpy.random import normal, exponential\n",
    "import matplotlib.pyplot as plt\n",
    "from random import random\n",
    "%matplotlib inline"
   ]
  },
  {
   "cell_type": "code",
   "execution_count": 3,
   "id": "b6ec0530",
   "metadata": {},
   "outputs": [
    {
     "name": "stdout",
     "output_type": "stream",
     "text": [
      "Simulating 1000 A/B tests, true treatment lift is 2...\n",
      "999/1000\r"
     ]
    },
    {
     "data": {
      "image/png": "[encoded data removed]",
      "text/plain": [
       "<Figure size 1008x504 with 1 Axes>"
      ]
     },
     "metadata": {
      "needs_background": "light"
     },
     "output_type": "display_data"
    }
   ],
   "source": [
    "def lift(A, B):\n",
    "    return mean(B) - mean(A)\n",
    "\n",
    "\n",
    "def p_value(A, B):\n",
    "    return stats.ttest_ind(A, B)[1]\n",
    "\n",
    "\n",
    "def get_AB_samples(scale, treatment_lift, N):\n",
    "    A = list(exponential(scale=scale                 , size=N))\n",
    "    B = list(exponential(scale=scale + treatment_lift, size=N))\n",
    "    # add outliers\n",
    "    for i in range(int(N*0.001)):\n",
    "        A.append(random()*scale*100)\n",
    "        B.append(random()*scale*100 + treatment_lift)\n",
    "    return A, B\n",
    "\n",
    "N = 10*1000\n",
    "scale = 100\n",
    "treatment_lift = 2\n",
    "num_simulations = 1000\n",
    "\n",
    "print('Simulating %s A/B tests, true treatment lift is %d...' % (num_simulations, treatment_lift))\n",
    "\n",
    "orig_lifts, trunc_lifts = [], []\n",
    "for i in range(num_simulations):\n",
    "    print('%d/%d' % (i, num_simulations), end='\\r')\n",
    "    A, B = get_AB_samples(scale, treatment_lift, N)\n",
    "    orig_lifts.append(lift(A, B))\n",
    "    A, B = [x for x in A if x < 5*scale], [x for x in B if x < 5*scale]\n",
    "    trunc_lifts.append(lift(A, B))\n",
    "\n",
    "bins = linspace(-8, 12, 99)\n",
    "plt.figure(figsize=(14, 7))\n",
    "plt.hist(orig_lifts, bins, alpha=0.5, label='original')\n",
    "plt.hist(trunc_lifts, bins, alpha=0.5, label='truncated')\n",
    "plt.xlabel('lift')\n",
    "plt.ylabel('count')\n",
    "plt.legend(loc='upper right')\n",
    "plt.title('lift histogram')\n",
    "plt.show()"
   ]
  },
  {
   "cell_type": "code",
   "execution_count": null,
   "id": "7562220c",
   "metadata": {},
   "outputs": [],
   "source": []
  }
 ],
 "metadata": {
  "kernelspec": {
   "display_name": "Python 3 (ipykernel)",
   "language": "python",
   "name": "python3"
  },
  "language_info": {
   "codemirror_mode": {
    "name": "ipython",
    "version": 3
   },
   "file_extension": ".py",
   "mimetype": "text/x-python",
   "name": "python",
   "nbconvert_exporter": "python",
   "pygments_lexer": "ipython3",
   "version": "3.8.1"
  }
 },
 "nbformat": 4,
 "nbformat_minor": 5
}
