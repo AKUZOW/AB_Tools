{
 "cells": [
  {
   "cell_type": "code",
   "execution_count": 1,
   "id": "c783d701",
   "metadata": {},
   "outputs": [],
   "source": [
    "import pandas as pd\n",
    "import numpy as np\n",
    "import statsmodels.formula.api as smf"
   ]
  },
  {
   "cell_type": "code",
   "execution_count": 2,
   "id": "3149765e",
   "metadata": {},
   "outputs": [],
   "source": [
    "df = pd.read_csv(\"cuped_data.csv\")"
   ]
  },
  {
   "cell_type": "code",
   "execution_count": 3,
   "id": "d09aaf9e",
   "metadata": {
    "scrolled": false
   },
   "outputs": [
    {
     "data": {
      "text/html": [
       "<div>\n",
       "<style scoped>\n",
       "    .dataframe tbody tr th:only-of-type {\n",
       "        vertical-align: middle;\n",
       "    }\n",
       "\n",
       "    .dataframe tbody tr th {\n",
       "        vertical-align: top;\n",
       "    }\n",
       "\n",
       "    .dataframe thead th {\n",
       "        text-align: right;\n",
       "    }\n",
       "</style>\n",
       "<table border=\"1\" class=\"dataframe\">\n",
       "  <thead>\n",
       "    <tr style=\"text-align: right;\">\n",
       "      <th></th>\n",
       "      <th>Unnamed: 0</th>\n",
       "      <th>user</th>\n",
       "      <th>variant</th>\n",
       "      <th>revenue_before</th>\n",
       "      <th>revenue_after</th>\n",
       "    </tr>\n",
       "  </thead>\n",
       "  <tbody>\n",
       "    <tr>\n",
       "      <th>0</th>\n",
       "      <td>0</td>\n",
       "      <td>1</td>\n",
       "      <td>1</td>\n",
       "      <td>5.318490</td>\n",
       "      <td>11.028245</td>\n",
       "    </tr>\n",
       "    <tr>\n",
       "      <th>1</th>\n",
       "      <td>1</td>\n",
       "      <td>2</td>\n",
       "      <td>1</td>\n",
       "      <td>7.522152</td>\n",
       "      <td>11.632472</td>\n",
       "    </tr>\n",
       "    <tr>\n",
       "      <th>2</th>\n",
       "      <td>2</td>\n",
       "      <td>3</td>\n",
       "      <td>1</td>\n",
       "      <td>5.078062</td>\n",
       "      <td>12.804922</td>\n",
       "    </tr>\n",
       "    <tr>\n",
       "      <th>3</th>\n",
       "      <td>3</td>\n",
       "      <td>4</td>\n",
       "      <td>0</td>\n",
       "      <td>5.805444</td>\n",
       "      <td>9.669108</td>\n",
       "    </tr>\n",
       "    <tr>\n",
       "      <th>4</th>\n",
       "      <td>4</td>\n",
       "      <td>5</td>\n",
       "      <td>1</td>\n",
       "      <td>5.631787</td>\n",
       "      <td>9.815636</td>\n",
       "    </tr>\n",
       "    <tr>\n",
       "      <th>...</th>\n",
       "      <td>...</td>\n",
       "      <td>...</td>\n",
       "      <td>...</td>\n",
       "      <td>...</td>\n",
       "      <td>...</td>\n",
       "    </tr>\n",
       "    <tr>\n",
       "      <th>995</th>\n",
       "      <td>995</td>\n",
       "      <td>996</td>\n",
       "      <td>0</td>\n",
       "      <td>5.017693</td>\n",
       "      <td>9.069170</td>\n",
       "    </tr>\n",
       "    <tr>\n",
       "      <th>996</th>\n",
       "      <td>996</td>\n",
       "      <td>997</td>\n",
       "      <td>0</td>\n",
       "      <td>2.348520</td>\n",
       "      <td>7.578279</td>\n",
       "    </tr>\n",
       "    <tr>\n",
       "      <th>997</th>\n",
       "      <td>997</td>\n",
       "      <td>998</td>\n",
       "      <td>0</td>\n",
       "      <td>6.136338</td>\n",
       "      <td>8.879685</td>\n",
       "    </tr>\n",
       "    <tr>\n",
       "      <th>998</th>\n",
       "      <td>998</td>\n",
       "      <td>999</td>\n",
       "      <td>1</td>\n",
       "      <td>5.254159</td>\n",
       "      <td>12.497577</td>\n",
       "    </tr>\n",
       "    <tr>\n",
       "      <th>999</th>\n",
       "      <td>999</td>\n",
       "      <td>1000</td>\n",
       "      <td>1</td>\n",
       "      <td>3.317685</td>\n",
       "      <td>7.840595</td>\n",
       "    </tr>\n",
       "  </tbody>\n",
       "</table>\n",
       "<p>1000 rows × 5 columns</p>\n",
       "</div>"
      ],
      "text/plain": [
       "     Unnamed: 0  user  variant  revenue_before  revenue_after\n",
       "0             0     1        1        5.318490      11.028245\n",
       "1             1     2        1        7.522152      11.632472\n",
       "2             2     3        1        5.078062      12.804922\n",
       "3             3     4        0        5.805444       9.669108\n",
       "4             4     5        1        5.631787       9.815636\n",
       "..          ...   ...      ...             ...            ...\n",
       "995         995   996        0        5.017693       9.069170\n",
       "996         996   997        0        2.348520       7.578279\n",
       "997         997   998        0        6.136338       8.879685\n",
       "998         998   999        1        5.254159      12.497577\n",
       "999         999  1000        1        3.317685       7.840595\n",
       "\n",
       "[1000 rows x 5 columns]"
      ]
     },
     "execution_count": 3,
     "metadata": {},
     "output_type": "execute_result"
    }
   ],
   "source": [
    "df"
   ]
  },
  {
   "cell_type": "markdown",
   "id": "96dfd898",
   "metadata": {},
   "source": [
    "Сначала рассчитаем $SE$ и разницу средних до применения $CUPED$"
   ]
  },
  {
   "cell_type": "code",
   "execution_count": 4,
   "id": "a1862e6f",
   "metadata": {},
   "outputs": [
    {
     "data": {
      "text/plain": [
       "1.9970698127040443"
      ]
     },
     "execution_count": 4,
     "metadata": {},
     "output_type": "execute_result"
    }
   ],
   "source": [
    "np.mean(df.loc[df.variant==1, 'revenue_after']) - np.mean(df.loc[df.variant==0, 'revenue_after'])"
   ]
  },
  {
   "cell_type": "code",
   "execution_count": 5,
   "id": "a2ceda97",
   "metadata": {},
   "outputs": [
    {
     "data": {
      "text/html": [
       "<table class=\"simpletable\">\n",
       "<tr>\n",
       "      <td></td>         <th>coef</th>     <th>std err</th>      <th>t</th>      <th>P>|t|</th>  <th>[0.025</th>    <th>0.975]</th>  \n",
       "</tr>\n",
       "<tr>\n",
       "  <th>Intercept</th> <td>    7.9962</td> <td>    0.063</td> <td>  127.332</td> <td> 0.000</td> <td>    7.873</td> <td>    8.119</td>\n",
       "</tr>\n",
       "<tr>\n",
       "  <th>variant</th>   <td>    1.9971</td> <td>    0.087</td> <td>   22.866</td> <td> 0.000</td> <td>    1.826</td> <td>    2.168</td>\n",
       "</tr>\n",
       "</table>"
      ],
      "text/plain": [
       "<class 'statsmodels.iolib.table.SimpleTable'>"
      ]
     },
     "execution_count": 5,
     "metadata": {},
     "output_type": "execute_result"
    }
   ],
   "source": [
    "smf.ols('revenue_after ~ variant', data=df).fit().summary().tables[1]"
   ]
  },
  {
   "cell_type": "markdown",
   "id": "22e7382b",
   "metadata": {},
   "source": [
    "Полученный коэфициент для variant – разница средних"
   ]
  },
  {
   "cell_type": "markdown",
   "id": "9c4f1ff8",
   "metadata": {},
   "source": [
    "### Порядок действий расчета $CUPED$\n",
    "1. Рассчитайте зависимость $Y$ от $X$ и получите $\\theta$ с помощью линейной регрессии\n",
    "2. Посчитайте $Y^{cuped} = Y - \\theta X$\n",
    "3. Посчитайте разницу CUPED метрик\n",
    "\n",
    "где $Y$ – значение целевой метрики во время проведения эксперимента, $X$ – та же самая метрика, но до проведения эксперимента"
   ]
  },
  {
   "cell_type": "code",
   "execution_count": 12,
   "id": "7420876a",
   "metadata": {},
   "outputs": [],
   "source": [
    "theta = smf.ols('revenue_after ~ revenue_before', data=df).fit().params[1]"
   ]
  },
  {
   "cell_type": "code",
   "execution_count": 13,
   "id": "a9e22015",
   "metadata": {},
   "outputs": [],
   "source": [
    "df['revenue_cuped'] = df['revenue_after'] - theta * (df['revenue_before'] - np.mean(df['revenue_before']))"
   ]
  },
  {
   "cell_type": "code",
   "execution_count": 14,
   "id": "4024e25a",
   "metadata": {},
   "outputs": [
    {
     "data": {
      "text/html": [
       "<table class=\"simpletable\">\n",
       "<tr>\n",
       "      <td></td>         <th>coef</th>     <th>std err</th>      <th>t</th>      <th>P>|t|</th>  <th>[0.025</th>    <th>0.975]</th>  \n",
       "</tr>\n",
       "<tr>\n",
       "  <th>Intercept</th> <td>    7.9731</td> <td>    0.044</td> <td>  181.428</td> <td> 0.000</td> <td>    7.887</td> <td>    8.059</td>\n",
       "</tr>\n",
       "<tr>\n",
       "  <th>variant</th>   <td>    2.0417</td> <td>    0.061</td> <td>   33.405</td> <td> 0.000</td> <td>    1.922</td> <td>    2.162</td>\n",
       "</tr>\n",
       "</table>"
      ],
      "text/plain": [
       "<class 'statsmodels.iolib.table.SimpleTable'>"
      ]
     },
     "execution_count": 14,
     "metadata": {},
     "output_type": "execute_result"
    }
   ],
   "source": [
    "smf.ols('revenue_cuped ~ variant', data=df).fit().summary().tables[1]"
   ]
  },
  {
   "cell_type": "markdown",
   "id": "80336ac6",
   "metadata": {},
   "source": [
    "Дисперсия стала меньше на треть, разница средних немного изменилась"
   ]
  },
  {
   "cell_type": "markdown",
   "id": "2b774b7a",
   "metadata": {},
   "source": [
    "Также давайте посчитаем `theta` альтернативно через соотношениев ковариации к дисперсии"
   ]
  },
  {
   "cell_type": "code",
   "execution_count": 15,
   "id": "a920adf2",
   "metadata": {},
   "outputs": [],
   "source": [
    "theta = df['revenue_before'].cov(df['revenue_after']) / df['revenue_before'].var() "
   ]
  },
  {
   "cell_type": "code",
   "execution_count": 16,
   "id": "0d3759d0",
   "metadata": {},
   "outputs": [],
   "source": [
    "df['revenue_cuped'] = df['revenue_after'] - theta * (df['revenue_before'] - np.mean(df['revenue_before']))"
   ]
  },
  {
   "cell_type": "code",
   "execution_count": 17,
   "id": "874206d4",
   "metadata": {},
   "outputs": [
    {
     "data": {
      "text/html": [
       "<table class=\"simpletable\">\n",
       "<tr>\n",
       "      <td></td>         <th>coef</th>     <th>std err</th>      <th>t</th>      <th>P>|t|</th>  <th>[0.025</th>    <th>0.975]</th>  \n",
       "</tr>\n",
       "<tr>\n",
       "  <th>Intercept</th> <td>    7.9731</td> <td>    0.044</td> <td>  181.428</td> <td> 0.000</td> <td>    7.887</td> <td>    8.059</td>\n",
       "</tr>\n",
       "<tr>\n",
       "  <th>variant</th>   <td>    2.0417</td> <td>    0.061</td> <td>   33.405</td> <td> 0.000</td> <td>    1.922</td> <td>    2.162</td>\n",
       "</tr>\n",
       "</table>"
      ],
      "text/plain": [
       "<class 'statsmodels.iolib.table.SimpleTable'>"
      ]
     },
     "execution_count": 17,
     "metadata": {},
     "output_type": "execute_result"
    }
   ],
   "source": [
    "smf.ols('revenue_cuped ~ variant', data=df).fit().summary().tables[1]"
   ]
  },
  {
   "cell_type": "code",
   "execution_count": null,
   "id": "e5f9d74f",
   "metadata": {},
   "outputs": [],
   "source": []
  }
 ],
 "metadata": {
  "kernelspec": {
   "display_name": "Python 3 (ipykernel)",
   "language": "python",
   "name": "python3"
  },
  "language_info": {
   "codemirror_mode": {
    "name": "ipython",
    "version": 3
   },
   "file_extension": ".py",
   "mimetype": "text/x-python",
   "name": "python",
   "nbconvert_exporter": "python",
   "pygments_lexer": "ipython3",
   "version": "3.8.1"
  }
 },
 "nbformat": 4,
 "nbformat_minor": 5
}
