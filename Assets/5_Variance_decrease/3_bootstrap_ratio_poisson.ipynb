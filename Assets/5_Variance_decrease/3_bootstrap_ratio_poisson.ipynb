{
 "cells": [
  {
   "cell_type": "code",
   "execution_count": 11,
   "metadata": {},
   "outputs": [],
   "source": [
    "import numpy as np\n",
    "import pandas as pd\n",
    "import seaborn as sns\n",
    "from scipy.stats import poisson, binom"
   ]
  },
  {
   "cell_type": "markdown",
   "metadata": {},
   "source": [
    "# Напишем функцию бутстрап для расчета ratio"
   ]
  },
  {
   "cell_type": "code",
   "execution_count": 12,
   "metadata": {},
   "outputs": [],
   "source": [
    "def bootstrap_ratio(df, variant_col, num_col, den_col, boot_it):\n",
    "    is_test = df[variant_col] == 1\n",
    "    rto_0 = sum(df[num_col][df[variant_col] == 0]) / sum(df[den_col][df[variant_col] == 0])\n",
    "    rto_1 = sum(df[num_col][df[variant_col] == 1]) / sum(df[den_col][df[variant_col] == 1])\n",
    "    delta = abs(rto_0 - rto_1)\n",
    "    count = 0\n",
    "    \n",
    "    for i in range(boot_it):\n",
    "        booted_index = is_test.sample(len(is_test)).values\n",
    "        sample_0 = sum(df.loc[True == booted_index][num_col]) / sum(df.loc[True == booted_index][den_col])\n",
    "        sample_1 = sum(df.loc[False == booted_index][num_col]) / sum(df.loc[False == booted_index][den_col])\n",
    "\n",
    "        if abs(sample_0-sample_1)>=delta:\n",
    "            count += 1\n",
    "    pvalue = count / boot_it\n",
    "    return pvalue\n"
   ]
  },
  {
   "cell_type": "code",
   "execution_count": 13,
   "metadata": {
    "scrolled": true
   },
   "outputs": [
    {
     "name": "stdout",
     "output_type": "stream",
     "text": [
      "0\n",
      "100\n",
      "200\n",
      "300\n",
      "400\n"
     ]
    }
   ],
   "source": [
    "N = 10000\n",
    "n_sim = 500\n",
    "alpha = 0.5\n",
    "pvalue_list = []\n",
    "for i in range(n_sim):\n",
    "    if i % 100 == 0:\n",
    "        print(i)\n",
    "        \n",
    "    df = pd.DataFrame({\n",
    "        \"variant\": binom.rvs(1, 0.5, size=N), \n",
    "        \"numerator\": np.random.poisson(10, N),\n",
    "        \"denominator\": np.random.poisson(5, N)\n",
    "    })\n",
    "    \n",
    "    pvalue = bootstrap_ratio(df, \"variant\", \"numerator\", \"denominator\", 100)\n",
    "    pvalue_list.append(pvalue)\n",
    "    "
   ]
  },
  {
   "cell_type": "code",
   "execution_count": 14,
   "metadata": {},
   "outputs": [
    {
     "name": "stdout",
     "output_type": "stream",
     "text": [
      "0.51\n"
     ]
    },
    {
     "data": {
      "text/plain": [
       "<AxesSubplot:ylabel='Count'>"
      ]
     },
     "execution_count": 14,
     "metadata": {},
     "output_type": "execute_result"
    },
    {
     "data": {
      "image/png": "[encoded data removed]",
      "text/plain": [
       "<Figure size 432x288 with 1 Axes>"
      ]
     },
     "metadata": {
      "needs_background": "light"
     },
     "output_type": "display_data"
    }
   ],
   "source": [
    "print(sum(np.array(pvalue_list) < alpha) / n_sim)\n",
    "sns.histplot(pvalue_list)"
   ]
  },
  {
   "cell_type": "markdown",
   "metadata": {},
   "source": [
    "# Напишем функцию бутстрап с применением Пуассоновской оптимизации"
   ]
  },
  {
   "cell_type": "code",
   "execution_count": 4,
   "metadata": {
    "pycharm": {
     "name": "#%%\n"
    }
   },
   "outputs": [],
   "source": [
    "def poisson_bootstrap(num_0, den_0, num_1, den_1, n_bootstrap=2000):\n",
    "\n",
    "    rto0 = np.array([num_0 / den_0])\n",
    "    rto1 = np.array([num_1 / den_1])\n",
    "\n",
    "    poisson_0 = poisson(1).rvs((n_bootstrap, rto0.size)).astype(np.int64)\n",
    "    poisson_1 = poisson(1).rvs((n_bootstrap, rto1.size)).astype(np.int64)\n",
    "\n",
    "    den_0 = np.array([den_0])\n",
    "    den_1 = np.array([den_1])\n",
    "    rto0 = np.matmul(rto0 * den_0, poisson_0.T)\n",
    "    w0 = np.matmul(den_0, poisson_0.T)\n",
    "    rto1 = np.matmul(rto1 * den_1, poisson_1.T)\n",
    "    w1 = np.matmul(den_1, poisson_1.T)\n",
    "\n",
    "    delta = rto1 / w1 - rto0 / w0\n",
    "    positions = np.sum(delta < 0)\n",
    "\n",
    "    pvalue = 2 * np.minimum(positions, n_bootstrap - positions) / n_bootstrap\n",
    "    return pvalue"
   ]
  },
  {
   "cell_type": "code",
   "execution_count": 5,
   "metadata": {
    "pycharm": {
     "name": "#%%\n"
    }
   },
   "outputs": [
    {
     "data": {
      "text/html": [
       "<div>\n",
       "<style scoped>\n",
       "    .dataframe tbody tr th:only-of-type {\n",
       "        vertical-align: middle;\n",
       "    }\n",
       "\n",
       "    .dataframe tbody tr th {\n",
       "        vertical-align: top;\n",
       "    }\n",
       "\n",
       "    .dataframe thead th {\n",
       "        text-align: right;\n",
       "    }\n",
       "</style>\n",
       "<table border=\"1\" class=\"dataframe\">\n",
       "  <thead>\n",
       "    <tr style=\"text-align: right;\">\n",
       "      <th></th>\n",
       "      <th>session_cnt</th>\n",
       "      <th>revenue_amt</th>\n",
       "      <th>split</th>\n",
       "    </tr>\n",
       "  </thead>\n",
       "  <tbody>\n",
       "    <tr>\n",
       "      <th>0</th>\n",
       "      <td>9</td>\n",
       "      <td>16.563763</td>\n",
       "      <td>1</td>\n",
       "    </tr>\n",
       "    <tr>\n",
       "      <th>1</th>\n",
       "      <td>4</td>\n",
       "      <td>29.567273</td>\n",
       "      <td>1</td>\n",
       "    </tr>\n",
       "    <tr>\n",
       "      <th>2</th>\n",
       "      <td>9</td>\n",
       "      <td>100.259226</td>\n",
       "      <td>1</td>\n",
       "    </tr>\n",
       "    <tr>\n",
       "      <th>3</th>\n",
       "      <td>9</td>\n",
       "      <td>638.925351</td>\n",
       "      <td>1</td>\n",
       "    </tr>\n",
       "    <tr>\n",
       "      <th>4</th>\n",
       "      <td>1</td>\n",
       "      <td>155.445262</td>\n",
       "      <td>1</td>\n",
       "    </tr>\n",
       "    <tr>\n",
       "      <th>...</th>\n",
       "      <td>...</td>\n",
       "      <td>...</td>\n",
       "      <td>...</td>\n",
       "    </tr>\n",
       "    <tr>\n",
       "      <th>19995</th>\n",
       "      <td>4</td>\n",
       "      <td>116.250564</td>\n",
       "      <td>1</td>\n",
       "    </tr>\n",
       "    <tr>\n",
       "      <th>19996</th>\n",
       "      <td>9</td>\n",
       "      <td>193.035489</td>\n",
       "      <td>1</td>\n",
       "    </tr>\n",
       "    <tr>\n",
       "      <th>19997</th>\n",
       "      <td>2</td>\n",
       "      <td>164.304770</td>\n",
       "      <td>1</td>\n",
       "    </tr>\n",
       "    <tr>\n",
       "      <th>19998</th>\n",
       "      <td>7</td>\n",
       "      <td>81.138947</td>\n",
       "      <td>0</td>\n",
       "    </tr>\n",
       "    <tr>\n",
       "      <th>19999</th>\n",
       "      <td>2</td>\n",
       "      <td>185.536932</td>\n",
       "      <td>0</td>\n",
       "    </tr>\n",
       "  </tbody>\n",
       "</table>\n",
       "<p>20000 rows × 3 columns</p>\n",
       "</div>"
      ],
      "text/plain": [
       "       session_cnt  revenue_amt  split\n",
       "0                9    16.563763      1\n",
       "1                4    29.567273      1\n",
       "2                9   100.259226      1\n",
       "3                9   638.925351      1\n",
       "4                1   155.445262      1\n",
       "...            ...          ...    ...\n",
       "19995            4   116.250564      1\n",
       "19996            9   193.035489      1\n",
       "19997            2   164.304770      1\n",
       "19998            7    81.138947      0\n",
       "19999            2   185.536932      0\n",
       "\n",
       "[20000 rows x 3 columns]"
      ]
     },
     "metadata": {},
     "output_type": "display_data"
    }
   ],
   "source": [
    "np.random.seed(3)\n",
    "n = 20000\n",
    "\n",
    "df = pd.DataFrame({\n",
    "    'session_cnt': np.random.randint(low = 1, high = 10, size = n),\n",
    "    'revenue_amt': np.random.exponential(100, size=n),\n",
    "    'split': np.random.randint(low = 0, high = 2, size = n)\n",
    "})\n",
    "\n",
    "display(df)"
   ]
  },
  {
   "cell_type": "code",
   "execution_count": 9,
   "metadata": {},
   "outputs": [
    {
     "name": "stdout",
     "output_type": "stream",
     "text": [
      "1.27 s ± 5.54 ms per loop (mean ± std. dev. of 10 runs, 1 loop each)\n"
     ]
    }
   ],
   "source": [
    "%%timeit -r 10\n",
    "bootstrap_ratio(df[1:100], \"split\", \"revenue_amt\", \"session_cnt\", 2000)"
   ]
  },
  {
   "cell_type": "code",
   "execution_count": 10,
   "metadata": {
    "pycharm": {
     "name": "#%%\n"
    }
   },
   "outputs": [
    {
     "name": "stdout",
     "output_type": "stream",
     "text": [
      "12.2 ms ± 60.6 µs per loop (mean ± std. dev. of 10 runs, 100 loops each)\n"
     ]
    }
   ],
   "source": [
    "%%timeit -r 10\n",
    "poisson_bootstrap(\n",
    "    df[1:100].revenue_amt[df[1:100].split == 0],\n",
    "    df[1:100].session_cnt[df[1:100].split == 0],\n",
    "    df[1:100].revenue_amt[df[1:100].split == 1],\n",
    "    df[1:100].session_cnt[df[1:100].split == 1]\n",
    ")"
   ]
  },
  {
   "cell_type": "markdown",
   "metadata": {
    "pycharm": {
     "name": "#%% md\n"
    }
   },
   "source": [
    "Скорость на лицо"
   ]
  },
  {
   "cell_type": "code",
   "execution_count": null,
   "metadata": {
    "pycharm": {
     "name": "#%%\n"
    }
   },
   "outputs": [],
   "source": []
  }
 ],
 "metadata": {
  "kernelspec": {
   "display_name": "Python 3 (ipykernel)",
   "language": "python",
   "name": "python3"
  },
  "language_info": {
   "codemirror_mode": {
    "name": "ipython",
    "version": 3
   },
   "file_extension": ".py",
   "mimetype": "text/x-python",
   "name": "python",
   "nbconvert_exporter": "python",
   "pygments_lexer": "ipython3",
   "version": "3.8.1"
  }
 },
 "nbformat": 4,
 "nbformat_minor": 1
}
