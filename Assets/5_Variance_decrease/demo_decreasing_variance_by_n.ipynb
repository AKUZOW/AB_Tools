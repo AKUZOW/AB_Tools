{
 "cells": [
  {
   "cell_type": "code",
   "execution_count": null,
   "id": "ca2bd001",
   "metadata": {},
   "outputs": [],
   "source": [
    "# Оригинальный код https://github.com/mtrencseni/playground/blob/master/Reducing%20variance.ipynb"
   ]
  },
  {
   "cell_type": "code",
   "execution_count": 1,
   "id": "b057ed45",
   "metadata": {},
   "outputs": [],
   "source": [
    "import scipy\n",
    "import numpy as np\n",
    "from math import sqrt\n",
    "from scipy import stats\n",
    "from numpy import cov, linspace\n",
    "from statistics import mean\n",
    "from numpy.random import normal, exponential\n",
    "import matplotlib.pyplot as plt\n",
    "from random import random\n",
    "%matplotlib inline"
   ]
  },
  {
   "cell_type": "code",
   "execution_count": 3,
   "id": "0a2d49b6",
   "metadata": {},
   "outputs": [
    {
     "name": "stdout",
     "output_type": "stream",
     "text": [
      "Simulating 1000 A/B tests, true treatment lift is 2...\n",
      "N samples  A/B testing, mean lift = 2.01, variance of lift = 0.20\n",
      "4N samples A/B testing, mean lift = 1.99, variance of lift = 0.05\n",
      "Raio of lift variance = 0.25 (expected = 0.25)\n"
     ]
    },
    {
     "data": {
      "image/png": "[encoded data removed]",
      "text/plain": [
       "<Figure size 1008x504 with 1 Axes>"
      ]
     },
     "metadata": {
      "needs_background": "light"
     },
     "output_type": "display_data"
    }
   ],
   "source": [
    "def lift(A, B):\n",
    "    return mean(B) - mean(A)\n",
    "\n",
    "def p_value(A, B):\n",
    "    return stats.ttest_ind(A, B)[1]\n",
    "\n",
    "def get_AB_samples(mu, sigma, treatment_lift, N):\n",
    "    A = list(normal(loc=mu                 , scale=sigma, size=N))\n",
    "    B = list(normal(loc=mu + treatment_lift, scale=sigma, size=N))\n",
    "    return A, B\n",
    "\n",
    "N = 1000\n",
    "N_multiplier = 4\n",
    "mu = 100\n",
    "sigma = 10\n",
    "treatment_lift = 2\n",
    "num_simulations = 1000\n",
    "\n",
    "print('Simulating %s A/B tests, true treatment lift is %d...' % (num_simulations, treatment_lift))\n",
    "\n",
    "n1_lifts, n4_lifts = [], []\n",
    "for i in range(num_simulations):\n",
    "    print('%d/%d' % (i, num_simulations), end='\\r')\n",
    "    A, B = get_AB_samples(mu, sigma, treatment_lift, N)\n",
    "    n1_lifts.append(lift(A, B))\n",
    "    A, B = get_AB_samples(mu, sigma, treatment_lift, N_multiplier*N)\n",
    "    n4_lifts.append(lift(A, B))\n",
    "\n",
    "print('N samples  A/B testing, mean lift = %.2f, variance of lift = %.2f' % (mean(n1_lifts), cov(n1_lifts)))\n",
    "print('4N samples A/B testing, mean lift = %.2f, variance of lift = %.2f' % (mean(n4_lifts), cov(n4_lifts)))\n",
    "print('Raio of lift variance = %.2f (expected = %.2f)' % (cov(n4_lifts)/cov(n1_lifts), 1/N_multiplier))\n",
    "\n",
    "bins = linspace(-2, 6, 100)\n",
    "plt.figure(figsize=(14, 7))\n",
    "plt.hist(n1_lifts, bins, alpha=0.5, label='N samples')\n",
    "plt.hist(n4_lifts, bins, alpha=0.5, label=f'{N_multiplier}N samples')\n",
    "plt.xlabel('lift')\n",
    "plt.ylabel('count')\n",
    "plt.legend(loc='upper right')\n",
    "plt.title('lift histogram')\n",
    "plt.show()"
   ]
  },
  {
   "cell_type": "code",
   "execution_count": null,
   "id": "e727d188",
   "metadata": {},
   "outputs": [],
   "source": []
  }
 ],
 "metadata": {
  "kernelspec": {
   "display_name": "Python 3 (ipykernel)",
   "language": "python",
   "name": "python3"
  },
  "language_info": {
   "codemirror_mode": {
    "name": "ipython",
    "version": 3
   },
   "file_extension": ".py",
   "mimetype": "text/x-python",
   "name": "python",
   "nbconvert_exporter": "python",
   "pygments_lexer": "ipython3",
   "version": "3.8.1"
  }
 },
 "nbformat": 4,
 "nbformat_minor": 5
}
