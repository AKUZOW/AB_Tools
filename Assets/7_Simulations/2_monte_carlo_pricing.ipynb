{
 "cells": [
  {
   "cell_type": "code",
   "execution_count": 1,
   "id": "c13d3040",
   "metadata": {},
   "outputs": [],
   "source": [
    "import numpy as np\n",
    "import pandas as pd\n",
    "import seaborn as sns\n",
    "\n",
    "from scipy.stats import binom, ttest_ind\n",
    "from tqdm import tqdm\n",
    "\n",
    "# Сгенерированные данные. Представим, что моделируем экономику A/B в подписочном SaaS\n",
    "pricing = np.array([0.99, 4.99, 9.99]) # цены в подписочной модели продукта\n",
    "\n",
    "# Доля покупок по каждой цене. Представим гипотезу, в которой мы хотим увеличить долю\n",
    "# платящих клиентов по самой дорогой цене, немного снизив долю по низкой\n",
    "proportions_control = np.array([0.5, 0.4, 0.1]) \n",
    "proportions_test = np.array([0.49, 0.4, 0.11])\n",
    "\n",
    "N = 10000\n",
    "sizes = np.arange(1000, 10001, 1000)\n",
    "simulations = 1000\n",
    "sim_res = pd.DataFrame() \n",
    "\n",
    "np.random.seed(1)\n",
    "control_pop = np.random.choice(pricing, N, p=proportions_control)\n",
    "test_pop = np.random.choice(pricing, N, p=proportions_test)\n",
    "\n",
    "for n in sizes: \n",
    "    \n",
    "    control = control_pop[0:n]\n",
    "    test = test_pop[0:n]\n",
    "    \n",
    "    for _ in range(0, simulations):\n",
    "        \n",
    "        # Рандомное присвоение групп A/B\n",
    "        is_control = binom.rvs(1, 0.5, size=n)\n",
    "        \n",
    "        # Считаем p-value\n",
    "        _, p = ttest_ind(control[is_control == True], test[is_control == False]) \n",
    "\n",
    "        # Кладем результат\n",
    "        sim_res = sim_res.append({\"n\": n, \"pvalue\": p}, ignore_index=True)\n",
    "        \n",
    "def calculate_tpr(df, sim_num):\n",
    "    names = {\n",
    "        \"tpr\": sum(df['pvalue'] < 0.05) / sim_num\n",
    "    }\n",
    "    return pd.Series(names)\n",
    "    \n",
    "res = sim_res.groupby([\"n\"]).apply(calculate_tpr, sim_num=simulations).reset_index()"
   ]
  },
  {
   "cell_type": "code",
   "execution_count": 3,
   "id": "62aedb4a",
   "metadata": {},
   "outputs": [
    {
     "data": {
      "text/html": [
       "<div>\n",
       "<style scoped>\n",
       "    .dataframe tbody tr th:only-of-type {\n",
       "        vertical-align: middle;\n",
       "    }\n",
       "\n",
       "    .dataframe tbody tr th {\n",
       "        vertical-align: top;\n",
       "    }\n",
       "\n",
       "    .dataframe thead th {\n",
       "        text-align: right;\n",
       "    }\n",
       "</style>\n",
       "<table border=\"1\" class=\"dataframe\">\n",
       "  <thead>\n",
       "    <tr style=\"text-align: right;\">\n",
       "      <th></th>\n",
       "      <th>n</th>\n",
       "      <th>tpr</th>\n",
       "    </tr>\n",
       "  </thead>\n",
       "  <tbody>\n",
       "    <tr>\n",
       "      <th>0</th>\n",
       "      <td>1000.0</td>\n",
       "      <td>0.052</td>\n",
       "    </tr>\n",
       "    <tr>\n",
       "      <th>1</th>\n",
       "      <td>2000.0</td>\n",
       "      <td>0.008</td>\n",
       "    </tr>\n",
       "    <tr>\n",
       "      <th>2</th>\n",
       "      <td>3000.0</td>\n",
       "      <td>0.129</td>\n",
       "    </tr>\n",
       "    <tr>\n",
       "      <th>3</th>\n",
       "      <td>4000.0</td>\n",
       "      <td>0.118</td>\n",
       "    </tr>\n",
       "    <tr>\n",
       "      <th>4</th>\n",
       "      <td>5000.0</td>\n",
       "      <td>0.258</td>\n",
       "    </tr>\n",
       "    <tr>\n",
       "      <th>5</th>\n",
       "      <td>6000.0</td>\n",
       "      <td>0.282</td>\n",
       "    </tr>\n",
       "    <tr>\n",
       "      <th>6</th>\n",
       "      <td>7000.0</td>\n",
       "      <td>0.383</td>\n",
       "    </tr>\n",
       "    <tr>\n",
       "      <th>7</th>\n",
       "      <td>8000.0</td>\n",
       "      <td>0.583</td>\n",
       "    </tr>\n",
       "    <tr>\n",
       "      <th>8</th>\n",
       "      <td>9000.0</td>\n",
       "      <td>0.754</td>\n",
       "    </tr>\n",
       "    <tr>\n",
       "      <th>9</th>\n",
       "      <td>10000.0</td>\n",
       "      <td>0.785</td>\n",
       "    </tr>\n",
       "  </tbody>\n",
       "</table>\n",
       "</div>"
      ],
      "text/plain": [
       "         n    tpr\n",
       "0   1000.0  0.052\n",
       "1   2000.0  0.008\n",
       "2   3000.0  0.129\n",
       "3   4000.0  0.118\n",
       "4   5000.0  0.258\n",
       "5   6000.0  0.282\n",
       "6   7000.0  0.383\n",
       "7   8000.0  0.583\n",
       "8   9000.0  0.754\n",
       "9  10000.0  0.785"
      ]
     },
     "metadata": {},
     "output_type": "display_data"
    },
    {
     "data": {
      "text/plain": [
       "<AxesSubplot:xlabel='n', ylabel='tpr'>"
      ]
     },
     "execution_count": 3,
     "metadata": {},
     "output_type": "execute_result"
    },
    {
     "data": {
      "image/png": "[encoded data removed]",
      "text/plain": [
       "<Figure size 432x288 with 1 Axes>"
      ]
     },
     "metadata": {
      "needs_background": "light"
     },
     "output_type": "display_data"
    }
   ],
   "source": [
    "display(res)\n",
    "sns.lineplot(data=res, x=\"n\", y=\"tpr\")"
   ]
  },
  {
   "cell_type": "code",
   "execution_count": null,
   "id": "1ed5e120",
   "metadata": {},
   "outputs": [],
   "source": []
  }
 ],
 "metadata": {
  "kernelspec": {
   "display_name": "Python 3 (ipykernel)",
   "language": "python",
   "name": "python3"
  },
  "language_info": {
   "codemirror_mode": {
    "name": "ipython",
    "version": 3
   },
   "file_extension": ".py",
   "mimetype": "text/x-python",
   "name": "python",
   "nbconvert_exporter": "python",
   "pygments_lexer": "ipython3",
   "version": "3.8.1"
  }
 },
 "nbformat": 4,
 "nbformat_minor": 5
}
