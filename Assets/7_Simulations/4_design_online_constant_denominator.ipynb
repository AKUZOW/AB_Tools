{
 "cells": [
  {
   "cell_type": "code",
   "execution_count": 10,
   "metadata": {
    "pycharm": {
     "name": "#%%\n"
    }
   },
   "outputs": [],
   "source": [
    "\n",
    "import numpy as np\n",
    "import pandas as pd\n",
    "from scipy.stats import norm, ttest_ind\n",
    "from tqdm import tqdm\n",
    "from matplotlib import pyplot as plt"
   ]
  },
  {
   "cell_type": "markdown",
   "metadata": {},
   "source": [
    "# Напишем функцию t-теста с применением дельтаметода"
   ]
  },
  {
   "cell_type": "code",
   "execution_count": 2,
   "metadata": {
    "pycharm": {
     "name": "#%%\n"
    }
   },
   "outputs": [],
   "source": [
    "def deltamethod(x_0, y_0, x_1, y_1):\n",
    "    n_0 = y_0.shape[0]\n",
    "    n_1 = y_0.shape[0]\n",
    "\n",
    "    mean_x_0, var_x_0 = np.mean(x_0), np.var(x_0)\n",
    "    mean_x_1, var_x_1 = np.mean(x_1), np.var(x_1)\n",
    "\n",
    "    mean_y_0, var_y_0 = np.mean(y_0), np.var(y_0)\n",
    "    mean_y_1, var_y_1 = np.mean(y_1), np.var(y_1)\n",
    "\n",
    "    cov_0 = np.mean((x_0 - mean_x_0.reshape(-1, )) * (y_0 - mean_y_0.reshape(-1, )))\n",
    "    cov_1 = np.mean((x_1 - mean_x_1.reshape(-1, )) * (y_1 - mean_y_1.reshape(-1, )))\n",
    "\n",
    "    var_0 = var_x_0 / mean_y_0 ** 2 + var_y_0 * mean_x_0 ** 2 / mean_y_0 ** 4 - 2 * mean_x_0 / mean_y_0 ** 3 * cov_0\n",
    "    var_1 = var_x_1 / mean_y_1 ** 2 + var_y_1 * mean_x_1 ** 2 / mean_y_1 ** 4 - 2 * mean_x_1 / mean_y_1 ** 3 * cov_1\n",
    "\n",
    "    rto_0 = np.sum(x_0) / np.sum(y_0)\n",
    "    rto_1 = np.sum(x_1) / np.sum(y_1)\n",
    "\n",
    "    statistic = (rto_1 - rto_0) / np.sqrt(var_0 / n_0 + var_1 / n_1)\n",
    "    pvalue = 2 * np.minimum(norm(0, 1).cdf(statistic), 1 - norm(0, 1).cdf(statistic))\n",
    "    return pvalue"
   ]
  },
  {
   "cell_type": "markdown",
   "metadata": {},
   "source": [
    "### Будем пробовать на тестовых данных\n",
    "В качестве примера сгенерим выручку. В знаменатель у нас пойдет единичка. Метрикой для симуляций выступит ARPU = Revenue / Users"
   ]
  },
  {
   "cell_type": "code",
   "execution_count": 4,
   "metadata": {
    "pycharm": {
     "name": "#%%\n"
    }
   },
   "outputs": [
    {
     "data": {
      "text/html": [
       "<div>\n",
       "<style scoped>\n",
       "    .dataframe tbody tr th:only-of-type {\n",
       "        vertical-align: middle;\n",
       "    }\n",
       "\n",
       "    .dataframe tbody tr th {\n",
       "        vertical-align: top;\n",
       "    }\n",
       "\n",
       "    .dataframe thead th {\n",
       "        text-align: right;\n",
       "    }\n",
       "</style>\n",
       "<table border=\"1\" class=\"dataframe\">\n",
       "  <thead>\n",
       "    <tr style=\"text-align: right;\">\n",
       "      <th></th>\n",
       "      <th>user_cnt</th>\n",
       "      <th>revenue_amt</th>\n",
       "      <th>variant</th>\n",
       "    </tr>\n",
       "  </thead>\n",
       "  <tbody>\n",
       "    <tr>\n",
       "      <th>0</th>\n",
       "      <td>1</td>\n",
       "      <td>80.028239</td>\n",
       "      <td>1</td>\n",
       "    </tr>\n",
       "    <tr>\n",
       "      <th>1</th>\n",
       "      <td>1</td>\n",
       "      <td>123.150785</td>\n",
       "      <td>1</td>\n",
       "    </tr>\n",
       "    <tr>\n",
       "      <th>2</th>\n",
       "      <td>1</td>\n",
       "      <td>34.376540</td>\n",
       "      <td>0</td>\n",
       "    </tr>\n",
       "    <tr>\n",
       "      <th>3</th>\n",
       "      <td>1</td>\n",
       "      <td>71.504031</td>\n",
       "      <td>1</td>\n",
       "    </tr>\n",
       "    <tr>\n",
       "      <th>4</th>\n",
       "      <td>1</td>\n",
       "      <td>223.443081</td>\n",
       "      <td>1</td>\n",
       "    </tr>\n",
       "    <tr>\n",
       "      <th>...</th>\n",
       "      <td>...</td>\n",
       "      <td>...</td>\n",
       "      <td>...</td>\n",
       "    </tr>\n",
       "    <tr>\n",
       "      <th>995</th>\n",
       "      <td>1</td>\n",
       "      <td>27.512164</td>\n",
       "      <td>0</td>\n",
       "    </tr>\n",
       "    <tr>\n",
       "      <th>996</th>\n",
       "      <td>1</td>\n",
       "      <td>86.769554</td>\n",
       "      <td>1</td>\n",
       "    </tr>\n",
       "    <tr>\n",
       "      <th>997</th>\n",
       "      <td>1</td>\n",
       "      <td>46.314428</td>\n",
       "      <td>0</td>\n",
       "    </tr>\n",
       "    <tr>\n",
       "      <th>998</th>\n",
       "      <td>1</td>\n",
       "      <td>3.579858</td>\n",
       "      <td>0</td>\n",
       "    </tr>\n",
       "    <tr>\n",
       "      <th>999</th>\n",
       "      <td>1</td>\n",
       "      <td>13.318147</td>\n",
       "      <td>0</td>\n",
       "    </tr>\n",
       "  </tbody>\n",
       "</table>\n",
       "<p>1000 rows × 3 columns</p>\n",
       "</div>"
      ],
      "text/plain": [
       "     user_cnt  revenue_amt  variant\n",
       "0           1    80.028239        1\n",
       "1           1   123.150785        1\n",
       "2           1    34.376540        0\n",
       "3           1    71.504031        1\n",
       "4           1   223.443081        1\n",
       "..        ...          ...      ...\n",
       "995         1    27.512164        0\n",
       "996         1    86.769554        1\n",
       "997         1    46.314428        0\n",
       "998         1     3.579858        0\n",
       "999         1    13.318147        0\n",
       "\n",
       "[1000 rows x 3 columns]"
      ]
     },
     "metadata": {},
     "output_type": "display_data"
    }
   ],
   "source": [
    "np.random.seed(3)\n",
    "n = 1000\n",
    "\n",
    "df = pd.DataFrame({\n",
    "    'user_cnt': 1,\n",
    "    'revenue_amt': np.random.exponential(100, size=n),\n",
    "    'variant': np.random.randint(low = 0, high = 2, size = n)\n",
    "})\n",
    "\n",
    "display(df)"
   ]
  },
  {
   "cell_type": "markdown",
   "metadata": {},
   "source": [
    "### Теперь сравним pvalue с применением дельтаметода и без"
   ]
  },
  {
   "cell_type": "code",
   "execution_count": 6,
   "metadata": {
    "pycharm": {
     "name": "#%%\n"
    }
   },
   "outputs": [
    {
     "data": {
      "text/plain": [
       "0.02011877470020096"
      ]
     },
     "execution_count": 6,
     "metadata": {},
     "output_type": "execute_result"
    }
   ],
   "source": [
    "deltamethod(\n",
    "    df.revenue_amt[df.variant == 0],\n",
    "    df.user_cnt[df.variant == 0],\n",
    "    df.revenue_amt[df.variant == 1],\n",
    "    df.user_cnt[df.variant == 1]\n",
    ")"
   ]
  },
  {
   "cell_type": "code",
   "execution_count": 7,
   "metadata": {
    "pycharm": {
     "name": "#%%\n"
    }
   },
   "outputs": [
    {
     "data": {
      "text/plain": [
       "Ttest_indResult(statistic=-2.3388164140624577, pvalue=0.0195415202760658)"
      ]
     },
     "execution_count": 7,
     "metadata": {},
     "output_type": "execute_result"
    }
   ],
   "source": [
    "ttest_ind(df.revenue_amt[df.variant == 0], df.revenue_amt[df.variant == 1])"
   ]
  },
  {
   "cell_type": "markdown",
   "metadata": {},
   "source": [
    "### Напоследок симулируем 1000 A/A тестов\n",
    "Ожидаем, что оба теста должны показывать одинаковые pvalue"
   ]
  },
  {
   "cell_type": "code",
   "execution_count": 8,
   "metadata": {
    "pycharm": {
     "name": "#%%\n"
    }
   },
   "outputs": [
    {
     "name": "stderr",
     "output_type": "stream",
     "text": [
      "100%|██████████| 1000/1000 [00:05<00:00, 178.62it/s]"
     ]
    },
    {
     "name": "stdout",
     "output_type": "stream",
     "text": [
      "\n",
      "t-test Deltamethod: 0.05,\n",
      "t-test: 0.049\n",
      "\n"
     ]
    },
    {
     "name": "stderr",
     "output_type": "stream",
     "text": [
      "\n"
     ]
    }
   ],
   "source": [
    "n = 1000\n",
    "\n",
    "pvalues_dm = []\n",
    "pvalues_t = []\n",
    "np.random.seed(4)\n",
    "for _ in tqdm(range(0,1000)):\n",
    "    sim = pd.DataFrame({\n",
    "        'user_cnt': 1,\n",
    "        'revenue_amt': np.random.exponential(100, size=n),\n",
    "        'variant': np.random.randint(low = 0, high = 2, size = n)\n",
    "    })\n",
    "    sim['variant'] = np.random.randint(0,2,len(sim))\n",
    "\n",
    "    pvalues_dm.append(deltamethod(\n",
    "        sim.revenue_amt[sim.variant == 0],\n",
    "        sim.user_cnt[sim.variant == 0],\n",
    "        sim.revenue_amt[sim.variant == 1],\n",
    "        sim.user_cnt[sim.variant == 1]\n",
    "    ))\n",
    "    pvalues_t.append(ttest_ind(sim.revenue_amt[sim.variant == 0], sim.revenue_amt[sim.variant == 1])[1])\n",
    "\n",
    "print(f\"\"\"\n",
    "t-test Deltamethod: {float(sum(np.array(pvalues_dm) <= 1 - 0.95) / len(pvalues_dm))},\n",
    "t-test: {float(sum(np.array(pvalues_t) <= 1 - 0.95) / len(pvalues_t))}\n",
    "\"\"\")"
   ]
  },
  {
   "cell_type": "code",
   "execution_count": 11,
   "metadata": {
    "pycharm": {
     "name": "#%%\n"
    }
   },
   "outputs": [
    {
     "data": {
      "text/plain": [
       "[<matplotlib.lines.Line2D at 0x7fd7369e4e80>]"
      ]
     },
     "execution_count": 11,
     "metadata": {},
     "output_type": "execute_result"
    },
    {
     "data": {
      "image/png": "[encoded data removed]",
      "text/plain": [
       "<Figure size 432x432 with 1 Axes>"
      ]
     },
     "metadata": {
      "needs_background": "light"
     },
     "output_type": "display_data"
    }
   ],
   "source": [
    "# Сравненим как далеки друг от друга pvalue двух критериев\n",
    "f, ax = plt.subplots(figsize=(6, 6))\n",
    "ax.scatter(pvalues_t, pvalues_dm, c=\".1\")\n",
    "ax.plot([0, 1], [0, 1], ls=\"--\", c=\".1\")"
   ]
  },
  {
   "cell_type": "markdown",
   "metadata": {},
   "source": [
    "#### Вывод: не важно что юзать. Такую мини хитрость полезно использовать для автоматизации расчетов в airflow, чтобы не городить пары метрика+критерий. Достаточно юзать один."
   ]
  },
  {
   "cell_type": "code",
   "execution_count": null,
   "metadata": {
    "pycharm": {
     "name": "#%%\n"
    }
   },
   "outputs": [],
   "source": []
  }
 ],
 "metadata": {
  "kernelspec": {
   "display_name": "Python 3 (ipykernel)",
   "language": "python",
   "name": "python3"
  },
  "language_info": {
   "codemirror_mode": {
    "name": "ipython",
    "version": 3
   },
   "file_extension": ".py",
   "mimetype": "text/x-python",
   "name": "python",
   "nbconvert_exporter": "python",
   "pygments_lexer": "ipython3",
   "version": "3.8.1"
  }
 },
 "nbformat": 4,
 "nbformat_minor": 1
}
